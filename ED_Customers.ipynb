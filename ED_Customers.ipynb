{
 "cells": [
  {
   "cell_type": "markdown",
   "metadata": {},
   "source": [
    "# ERIKS Digital - Customer Name String Extraction"
   ]
  },
  {
   "cell_type": "markdown",
   "metadata": {},
   "source": [
    "1. I was asked by a member of the Marketing team, to produce a set of files of customer names, divided up by country and turnover class(importance to us). \n",
    "2. There are six classes (A-F), and two countries (Netherlands and Belgium). \n",
    "3. The turnover class is typically provided along with each order entered into the SQL database. \n",
    "4. However, the turnover class changes over time as those responsible for this measure reclassify customers over time. \n",
    "5. Thus, I was to take the turnover class upon the last order placed by each customer, as their turnover class. \n",
    "6. I then had to write each set of customer names to a .csv file, in the following format:\n",
    "    a. |Customer_1|Customer_2|...|Customer_n|\n",
    "7. I made a simple SQL query to extract this orders data first, then analysed this data here."
   ]
  },
  {
   "cell_type": "markdown",
   "metadata": {},
   "source": [
    "# Setup and Data Import"
   ]
  },
  {
   "cell_type": "code",
   "execution_count": 1,
   "metadata": {},
   "outputs": [],
   "source": [
    "import pandas as pd\n",
    "import numpy as np\n",
    "from datetime import datetime as dt\n",
    "import warnings\n",
    "warnings.filterwarnings('ignore')\n",
    "from datetime import date\n",
    "import matplotlib.pyplot as plt\n",
    "from matplotlib.dates import date2num\n",
    "import re\n",
    "import csv"
   ]
  },
  {
   "cell_type": "code",
   "execution_count": 2,
   "metadata": {},
   "outputs": [],
   "source": [
    "def import_and_clean_orders_nlbe_data(filepath):\n",
    "    df_orders = pd.read_csv(filepath)\n",
    "    df_orders.CustomerId = df_orders.CustomerId.astype(str) \n",
    "    df_orders.TurnoverClass = df_orders.TurnoverClass.astype(str)\n",
    "    df_orders.CustomerMarketPotential = df_orders.CustomerMarketPotential.astype(str)\n",
    "    df_orders.CustomerId = df_orders.CustomerId.astype(str)\n",
    "    df_orders['SalesDocumentHeaderCreationDate'] = pd.to_datetime(df_orders['SalesDocumentHeaderCreationDate'])\n",
    "    return df_orders"
   ]
  },
  {
   "cell_type": "code",
   "execution_count": 3,
   "metadata": {},
   "outputs": [],
   "source": [
    "df_orders = import_and_clean_orders_nlbe_data(r\"OrdersNLBE_Condensed.csv\")"
   ]
  },
  {
   "cell_type": "markdown",
   "metadata": {},
   "source": [
    "# Create intermediate last order date dataframe\n"
   ]
  },
  {
   "cell_type": "code",
   "execution_count": 4,
   "metadata": {},
   "outputs": [],
   "source": [
    "df_last_order_date = df_orders.loc[df_orders.groupby('CustomerId').SalesDocumentHeaderCreationDate.idxmax()]\n",
    "df_last_order_date = df_last_order_date[['CustomerId', 'SalesDocumentHeaderCreationDate']]"
   ]
  },
  {
   "cell_type": "markdown",
   "metadata": {},
   "source": [
    "# Filter original orders dataframe with last orders dataframe"
   ]
  },
  {
   "cell_type": "code",
   "execution_count": 5,
   "metadata": {},
   "outputs": [
    {
     "name": "stdout",
     "output_type": "stream",
     "text": [
      "42193\n"
     ]
    }
   ],
   "source": [
    "keys = list(df_last_order_date.columns.values)\n",
    "i1 = df_orders.set_index(keys).index\n",
    "i2 = df_last_order_date.set_index(keys).index\n",
    "df_orders_filtered = df_orders[i1.isin(i2)]\n",
    "print (len(df_orders_filtered))"
   ]
  },
  {
   "cell_type": "markdown",
   "metadata": {},
   "source": [
    "# Check if all turnover classes unique per customer\n"
   ]
  },
  {
   "cell_type": "code",
   "execution_count": 6,
   "metadata": {},
   "outputs": [],
   "source": [
    "unique_turnover_classes = df_orders_filtered.groupby('CustomerId')['TurnoverClass'].nunique()"
   ]
  },
  {
   "cell_type": "code",
   "execution_count": 7,
   "metadata": {},
   "outputs": [
    {
     "name": "stdout",
     "output_type": "stream",
     "text": [
      "2\n",
      "2\n",
      "2\n",
      "2\n",
      "2\n",
      "2\n",
      "2\n",
      "2\n",
      "2\n",
      "2\n",
      "2\n",
      "2\n",
      "2\n",
      "2\n",
      "2\n",
      "2\n",
      "2\n",
      "2\n",
      "2\n",
      "2\n",
      "2\n",
      "2\n",
      "2\n"
     ]
    }
   ],
   "source": [
    "# If this block prints nothing, all turnover classes for each customer are now unique\n",
    "with pd.option_context('display.max_rows', None, 'display.max_columns', None):\n",
    "    for i in unique_turnover_classes:\n",
    "        if i > 1:\n",
    "            print (i)"
   ]
  },
  {
   "cell_type": "markdown",
   "metadata": {},
   "source": [
    "This means that a few customers have a changing turnover class on the day of their most recent order!"
   ]
  },
  {
   "cell_type": "markdown",
   "metadata": {},
   "source": [
    "## Multiple turnover classes - what's going on?"
   ]
  },
  {
   "cell_type": "code",
   "execution_count": 8,
   "metadata": {},
   "outputs": [
    {
     "name": "stdout",
     "output_type": "stream",
     "text": [
      "['1026211', '1026700', '1029555', '1031795', '1033116', '1033378', '1033481', '1034154', '1035323', '1037922', '1040276', '1041566', '1043106', '1049434', '1065965', '1717359', '1726415', '1741920', '1776097', '1781592', '1796362', '1796746', '1797447']\n"
     ]
    }
   ],
   "source": [
    "unique_turnover_classes_multiple_turnover_classes = unique_turnover_classes[unique_turnover_classes > 1]\n",
    "unique_turnover_classes_multiple_turnover_classes.head(n = 50)\n",
    "list_customers_multiple_turnovers = list(unique_turnover_classes_multiple_turnover_classes.index)\n",
    "print (list_customers_multiple_turnovers)"
   ]
  },
  {
   "cell_type": "markdown",
   "metadata": {},
   "source": [
    "Email these back to Marketing team, to say that they have multiple turnover classes on the last day. "
   ]
  },
  {
   "cell_type": "code",
   "execution_count": 9,
   "metadata": {},
   "outputs": [
    {
     "name": "stdout",
     "output_type": "stream",
     "text": [
      "46\n"
     ]
    }
   ],
   "source": [
    "df_orders_filtered_multiple_turnover_class_customers = df_orders_filtered[df_orders_filtered['CustomerId'].isin(list_customers_multiple_turnovers)]\n",
    "print (len(df_orders_filtered_multiple_turnover_class_customers))"
   ]
  },
  {
   "cell_type": "code",
   "execution_count": 10,
   "metadata": {},
   "outputs": [
    {
     "data": {
      "text/html": [
       "<div>\n",
       "<style scoped>\n",
       "    .dataframe tbody tr th:only-of-type {\n",
       "        vertical-align: middle;\n",
       "    }\n",
       "\n",
       "    .dataframe tbody tr th {\n",
       "        vertical-align: top;\n",
       "    }\n",
       "\n",
       "    .dataframe thead th {\n",
       "        text-align: right;\n",
       "    }\n",
       "</style>\n",
       "<table border=\"1\" class=\"dataframe\">\n",
       "  <thead>\n",
       "    <tr style=\"text-align: right;\">\n",
       "      <th></th>\n",
       "      <th>SalesDocumentHeaderCreationDate</th>\n",
       "      <th>CustomerMarketPotential</th>\n",
       "      <th>TurnoverClass</th>\n",
       "      <th>IndustryCode2Description</th>\n",
       "      <th>SalesOrganization</th>\n",
       "      <th>CustomerId</th>\n",
       "    </tr>\n",
       "  </thead>\n",
       "  <tbody>\n",
       "    <tr>\n",
       "      <th>1776</th>\n",
       "      <td>2019-11-13</td>\n",
       "      <td>nan</td>\n",
       "      <td>B</td>\n",
       "      <td>Chemical</td>\n",
       "      <td>EB01</td>\n",
       "      <td>1049434</td>\n",
       "    </tr>\n",
       "    <tr>\n",
       "      <th>1779</th>\n",
       "      <td>2019-11-13</td>\n",
       "      <td>A5</td>\n",
       "      <td>nan</td>\n",
       "      <td>Chemical</td>\n",
       "      <td>EN01</td>\n",
       "      <td>1049434</td>\n",
       "    </tr>\n",
       "    <tr>\n",
       "      <th>3017</th>\n",
       "      <td>2019-02-26</td>\n",
       "      <td>nan</td>\n",
       "      <td>E</td>\n",
       "      <td>Other industries</td>\n",
       "      <td>EB01</td>\n",
       "      <td>1776097</td>\n",
       "    </tr>\n",
       "    <tr>\n",
       "      <th>3018</th>\n",
       "      <td>2019-02-26</td>\n",
       "      <td>nan</td>\n",
       "      <td>F</td>\n",
       "      <td>Other industries</td>\n",
       "      <td>EB01</td>\n",
       "      <td>1776097</td>\n",
       "    </tr>\n",
       "    <tr>\n",
       "      <th>3787</th>\n",
       "      <td>2019-09-06</td>\n",
       "      <td>nan</td>\n",
       "      <td>A</td>\n",
       "      <td>Food Beverage Tobacc</td>\n",
       "      <td>EB01</td>\n",
       "      <td>1717359</td>\n",
       "    </tr>\n",
       "    <tr>\n",
       "      <th>3788</th>\n",
       "      <td>2019-09-06</td>\n",
       "      <td>nan</td>\n",
       "      <td>B</td>\n",
       "      <td>Food Beverage Tobacc</td>\n",
       "      <td>EB01</td>\n",
       "      <td>1717359</td>\n",
       "    </tr>\n",
       "    <tr>\n",
       "      <th>9137</th>\n",
       "      <td>2019-03-15</td>\n",
       "      <td>nan</td>\n",
       "      <td>D</td>\n",
       "      <td>Dist. &amp; retailers</td>\n",
       "      <td>EB01</td>\n",
       "      <td>1037922</td>\n",
       "    </tr>\n",
       "    <tr>\n",
       "      <th>9138</th>\n",
       "      <td>2019-03-15</td>\n",
       "      <td>nan</td>\n",
       "      <td>F</td>\n",
       "      <td>Dist. &amp; retailers</td>\n",
       "      <td>EB01</td>\n",
       "      <td>1037922</td>\n",
       "    </tr>\n",
       "    <tr>\n",
       "      <th>11021</th>\n",
       "      <td>2018-12-21</td>\n",
       "      <td>nan</td>\n",
       "      <td>nan</td>\n",
       "      <td>Food and beverage</td>\n",
       "      <td>EB01</td>\n",
       "      <td>1781592</td>\n",
       "    </tr>\n",
       "    <tr>\n",
       "      <th>11027</th>\n",
       "      <td>2018-12-21</td>\n",
       "      <td>nan</td>\n",
       "      <td>F</td>\n",
       "      <td>Food and beverage</td>\n",
       "      <td>EB01</td>\n",
       "      <td>1781592</td>\n",
       "    </tr>\n",
       "    <tr>\n",
       "      <th>12460</th>\n",
       "      <td>2019-02-08</td>\n",
       "      <td>nan</td>\n",
       "      <td>D</td>\n",
       "      <td>Chemical industry</td>\n",
       "      <td>EB01</td>\n",
       "      <td>1033481</td>\n",
       "    </tr>\n",
       "    <tr>\n",
       "      <th>12461</th>\n",
       "      <td>2019-02-08</td>\n",
       "      <td>nan</td>\n",
       "      <td>F</td>\n",
       "      <td>Chemical industry</td>\n",
       "      <td>EB01</td>\n",
       "      <td>1033481</td>\n",
       "    </tr>\n",
       "    <tr>\n",
       "      <th>14939</th>\n",
       "      <td>2019-11-22</td>\n",
       "      <td>nan</td>\n",
       "      <td>A</td>\n",
       "      <td>Marine</td>\n",
       "      <td>EB01</td>\n",
       "      <td>1029555</td>\n",
       "    </tr>\n",
       "    <tr>\n",
       "      <th>14940</th>\n",
       "      <td>2019-11-22</td>\n",
       "      <td>A9</td>\n",
       "      <td>nan</td>\n",
       "      <td>Marine</td>\n",
       "      <td>EN01</td>\n",
       "      <td>1029555</td>\n",
       "    </tr>\n",
       "    <tr>\n",
       "      <th>16220</th>\n",
       "      <td>2019-11-22</td>\n",
       "      <td>nan</td>\n",
       "      <td>A</td>\n",
       "      <td>Marine</td>\n",
       "      <td>EB01</td>\n",
       "      <td>1043106</td>\n",
       "    </tr>\n",
       "    <tr>\n",
       "      <th>16223</th>\n",
       "      <td>2019-11-22</td>\n",
       "      <td>A9</td>\n",
       "      <td>nan</td>\n",
       "      <td>Marine</td>\n",
       "      <td>EN01</td>\n",
       "      <td>1043106</td>\n",
       "    </tr>\n",
       "    <tr>\n",
       "      <th>22388</th>\n",
       "      <td>2019-09-05</td>\n",
       "      <td>nan</td>\n",
       "      <td>C</td>\n",
       "      <td>Basic Ind. Metal eo</td>\n",
       "      <td>EB01</td>\n",
       "      <td>1040276</td>\n",
       "    </tr>\n",
       "    <tr>\n",
       "      <th>22389</th>\n",
       "      <td>2019-09-05</td>\n",
       "      <td>nan</td>\n",
       "      <td>D</td>\n",
       "      <td>Basic Ind. Metal eo</td>\n",
       "      <td>EB01</td>\n",
       "      <td>1040276</td>\n",
       "    </tr>\n",
       "    <tr>\n",
       "      <th>24419</th>\n",
       "      <td>2019-09-10</td>\n",
       "      <td>nan</td>\n",
       "      <td>C</td>\n",
       "      <td>Other Sales</td>\n",
       "      <td>EB01</td>\n",
       "      <td>1741920</td>\n",
       "    </tr>\n",
       "    <tr>\n",
       "      <th>24420</th>\n",
       "      <td>2019-09-10</td>\n",
       "      <td>nan</td>\n",
       "      <td>F</td>\n",
       "      <td>Other Sales</td>\n",
       "      <td>EB01</td>\n",
       "      <td>1741920</td>\n",
       "    </tr>\n",
       "    <tr>\n",
       "      <th>30092</th>\n",
       "      <td>2019-08-26</td>\n",
       "      <td>nan</td>\n",
       "      <td>C</td>\n",
       "      <td>Distribution Retail</td>\n",
       "      <td>EB01</td>\n",
       "      <td>1026211</td>\n",
       "    </tr>\n",
       "    <tr>\n",
       "      <th>30093</th>\n",
       "      <td>2019-08-26</td>\n",
       "      <td>nan</td>\n",
       "      <td>D</td>\n",
       "      <td>Distribution Retail</td>\n",
       "      <td>EB01</td>\n",
       "      <td>1026211</td>\n",
       "    </tr>\n",
       "    <tr>\n",
       "      <th>34100</th>\n",
       "      <td>2016-12-08</td>\n",
       "      <td>nan</td>\n",
       "      <td>B</td>\n",
       "      <td>Engineering</td>\n",
       "      <td>EB01</td>\n",
       "      <td>1726415</td>\n",
       "    </tr>\n",
       "    <tr>\n",
       "      <th>34101</th>\n",
       "      <td>2016-12-08</td>\n",
       "      <td>nan</td>\n",
       "      <td>C</td>\n",
       "      <td>Engineering</td>\n",
       "      <td>EB01</td>\n",
       "      <td>1726415</td>\n",
       "    </tr>\n",
       "    <tr>\n",
       "      <th>34302</th>\n",
       "      <td>2019-09-05</td>\n",
       "      <td>nan</td>\n",
       "      <td>C</td>\n",
       "      <td>Other industries</td>\n",
       "      <td>EB01</td>\n",
       "      <td>1035323</td>\n",
       "    </tr>\n",
       "    <tr>\n",
       "      <th>34303</th>\n",
       "      <td>2019-09-05</td>\n",
       "      <td>P</td>\n",
       "      <td>D</td>\n",
       "      <td>Other industries</td>\n",
       "      <td>EB01</td>\n",
       "      <td>1035323</td>\n",
       "    </tr>\n",
       "    <tr>\n",
       "      <th>38972</th>\n",
       "      <td>2019-08-21</td>\n",
       "      <td>nan</td>\n",
       "      <td>E</td>\n",
       "      <td>Other Sales</td>\n",
       "      <td>EB01</td>\n",
       "      <td>1033116</td>\n",
       "    </tr>\n",
       "    <tr>\n",
       "      <th>38973</th>\n",
       "      <td>2019-08-21</td>\n",
       "      <td>nan</td>\n",
       "      <td>F</td>\n",
       "      <td>Other Sales</td>\n",
       "      <td>EB01</td>\n",
       "      <td>1033116</td>\n",
       "    </tr>\n",
       "    <tr>\n",
       "      <th>40966</th>\n",
       "      <td>2016-12-14</td>\n",
       "      <td>nan</td>\n",
       "      <td>nan</td>\n",
       "      <td>Miscellaneous</td>\n",
       "      <td>EB01</td>\n",
       "      <td>1796746</td>\n",
       "    </tr>\n",
       "    <tr>\n",
       "      <th>40967</th>\n",
       "      <td>2016-12-14</td>\n",
       "      <td>nan</td>\n",
       "      <td>F</td>\n",
       "      <td>Miscellaneous</td>\n",
       "      <td>EB01</td>\n",
       "      <td>1796746</td>\n",
       "    </tr>\n",
       "    <tr>\n",
       "      <th>43253</th>\n",
       "      <td>2019-07-24</td>\n",
       "      <td>nan</td>\n",
       "      <td>C</td>\n",
       "      <td>Food Beverage Tobacc</td>\n",
       "      <td>EB01</td>\n",
       "      <td>1065965</td>\n",
       "    </tr>\n",
       "    <tr>\n",
       "      <th>43254</th>\n",
       "      <td>2019-07-24</td>\n",
       "      <td>nan</td>\n",
       "      <td>D</td>\n",
       "      <td>Food Beverage Tobacc</td>\n",
       "      <td>EB01</td>\n",
       "      <td>1065965</td>\n",
       "    </tr>\n",
       "    <tr>\n",
       "      <th>44361</th>\n",
       "      <td>2019-09-02</td>\n",
       "      <td>nan</td>\n",
       "      <td>D</td>\n",
       "      <td>Distribution Retail</td>\n",
       "      <td>EB01</td>\n",
       "      <td>1041566</td>\n",
       "    </tr>\n",
       "    <tr>\n",
       "      <th>44363</th>\n",
       "      <td>2019-09-02</td>\n",
       "      <td>P</td>\n",
       "      <td>F</td>\n",
       "      <td>Distribution Retail</td>\n",
       "      <td>EB01</td>\n",
       "      <td>1041566</td>\n",
       "    </tr>\n",
       "    <tr>\n",
       "      <th>50322</th>\n",
       "      <td>2019-03-14</td>\n",
       "      <td>nan</td>\n",
       "      <td>D</td>\n",
       "      <td>Chemical industry</td>\n",
       "      <td>EB01</td>\n",
       "      <td>1033378</td>\n",
       "    </tr>\n",
       "    <tr>\n",
       "      <th>50323</th>\n",
       "      <td>2019-03-14</td>\n",
       "      <td>nan</td>\n",
       "      <td>E</td>\n",
       "      <td>Chemical industry</td>\n",
       "      <td>EB01</td>\n",
       "      <td>1033378</td>\n",
       "    </tr>\n",
       "    <tr>\n",
       "      <th>50858</th>\n",
       "      <td>2019-08-29</td>\n",
       "      <td>nan</td>\n",
       "      <td>D</td>\n",
       "      <td>Engineering Contract</td>\n",
       "      <td>EB01</td>\n",
       "      <td>1796362</td>\n",
       "    </tr>\n",
       "    <tr>\n",
       "      <th>50859</th>\n",
       "      <td>2019-08-29</td>\n",
       "      <td>nan</td>\n",
       "      <td>E</td>\n",
       "      <td>Engineering Contract</td>\n",
       "      <td>EB01</td>\n",
       "      <td>1796362</td>\n",
       "    </tr>\n",
       "    <tr>\n",
       "      <th>56379</th>\n",
       "      <td>2019-09-06</td>\n",
       "      <td>nan</td>\n",
       "      <td>C</td>\n",
       "      <td>Government</td>\n",
       "      <td>EB01</td>\n",
       "      <td>1034154</td>\n",
       "    </tr>\n",
       "    <tr>\n",
       "      <th>56380</th>\n",
       "      <td>2019-09-06</td>\n",
       "      <td>nan</td>\n",
       "      <td>D</td>\n",
       "      <td>Government</td>\n",
       "      <td>EB01</td>\n",
       "      <td>1034154</td>\n",
       "    </tr>\n",
       "    <tr>\n",
       "      <th>56386</th>\n",
       "      <td>2019-09-05</td>\n",
       "      <td>nan</td>\n",
       "      <td>C</td>\n",
       "      <td>Government</td>\n",
       "      <td>EB01</td>\n",
       "      <td>1031795</td>\n",
       "    </tr>\n",
       "    <tr>\n",
       "      <th>56387</th>\n",
       "      <td>2019-09-05</td>\n",
       "      <td>nan</td>\n",
       "      <td>D</td>\n",
       "      <td>Government</td>\n",
       "      <td>EB01</td>\n",
       "      <td>1031795</td>\n",
       "    </tr>\n",
       "    <tr>\n",
       "      <th>58257</th>\n",
       "      <td>2019-09-10</td>\n",
       "      <td>nan</td>\n",
       "      <td>D</td>\n",
       "      <td>Transport by Land eo</td>\n",
       "      <td>EB01</td>\n",
       "      <td>1797447</td>\n",
       "    </tr>\n",
       "    <tr>\n",
       "      <th>58258</th>\n",
       "      <td>2019-09-10</td>\n",
       "      <td>nan</td>\n",
       "      <td>E</td>\n",
       "      <td>Transport by Land eo</td>\n",
       "      <td>EB01</td>\n",
       "      <td>1797447</td>\n",
       "    </tr>\n",
       "    <tr>\n",
       "      <th>61575</th>\n",
       "      <td>2019-03-14</td>\n",
       "      <td>nan</td>\n",
       "      <td>C</td>\n",
       "      <td>Transport industry</td>\n",
       "      <td>EB01</td>\n",
       "      <td>1026700</td>\n",
       "    </tr>\n",
       "    <tr>\n",
       "      <th>61581</th>\n",
       "      <td>2019-03-14</td>\n",
       "      <td>nan</td>\n",
       "      <td>D</td>\n",
       "      <td>Transport industry</td>\n",
       "      <td>EB01</td>\n",
       "      <td>1026700</td>\n",
       "    </tr>\n",
       "  </tbody>\n",
       "</table>\n",
       "</div>"
      ],
      "text/plain": [
       "      SalesDocumentHeaderCreationDate CustomerMarketPotential TurnoverClass  \\\n",
       "1776                       2019-11-13                     nan             B   \n",
       "1779                       2019-11-13                      A5           nan   \n",
       "3017                       2019-02-26                     nan             E   \n",
       "3018                       2019-02-26                     nan             F   \n",
       "3787                       2019-09-06                     nan             A   \n",
       "3788                       2019-09-06                     nan             B   \n",
       "9137                       2019-03-15                     nan             D   \n",
       "9138                       2019-03-15                     nan             F   \n",
       "11021                      2018-12-21                     nan           nan   \n",
       "11027                      2018-12-21                     nan             F   \n",
       "12460                      2019-02-08                     nan             D   \n",
       "12461                      2019-02-08                     nan             F   \n",
       "14939                      2019-11-22                     nan             A   \n",
       "14940                      2019-11-22                      A9           nan   \n",
       "16220                      2019-11-22                     nan             A   \n",
       "16223                      2019-11-22                      A9           nan   \n",
       "22388                      2019-09-05                     nan             C   \n",
       "22389                      2019-09-05                     nan             D   \n",
       "24419                      2019-09-10                     nan             C   \n",
       "24420                      2019-09-10                     nan             F   \n",
       "30092                      2019-08-26                     nan             C   \n",
       "30093                      2019-08-26                     nan             D   \n",
       "34100                      2016-12-08                     nan             B   \n",
       "34101                      2016-12-08                     nan             C   \n",
       "34302                      2019-09-05                     nan             C   \n",
       "34303                      2019-09-05                       P             D   \n",
       "38972                      2019-08-21                     nan             E   \n",
       "38973                      2019-08-21                     nan             F   \n",
       "40966                      2016-12-14                     nan           nan   \n",
       "40967                      2016-12-14                     nan             F   \n",
       "43253                      2019-07-24                     nan             C   \n",
       "43254                      2019-07-24                     nan             D   \n",
       "44361                      2019-09-02                     nan             D   \n",
       "44363                      2019-09-02                       P             F   \n",
       "50322                      2019-03-14                     nan             D   \n",
       "50323                      2019-03-14                     nan             E   \n",
       "50858                      2019-08-29                     nan             D   \n",
       "50859                      2019-08-29                     nan             E   \n",
       "56379                      2019-09-06                     nan             C   \n",
       "56380                      2019-09-06                     nan             D   \n",
       "56386                      2019-09-05                     nan             C   \n",
       "56387                      2019-09-05                     nan             D   \n",
       "58257                      2019-09-10                     nan             D   \n",
       "58258                      2019-09-10                     nan             E   \n",
       "61575                      2019-03-14                     nan             C   \n",
       "61581                      2019-03-14                     nan             D   \n",
       "\n",
       "      IndustryCode2Description SalesOrganization CustomerId  \n",
       "1776                  Chemical              EB01    1049434  \n",
       "1779                  Chemical              EN01    1049434  \n",
       "3017          Other industries              EB01    1776097  \n",
       "3018          Other industries              EB01    1776097  \n",
       "3787      Food Beverage Tobacc              EB01    1717359  \n",
       "3788      Food Beverage Tobacc              EB01    1717359  \n",
       "9137         Dist. & retailers              EB01    1037922  \n",
       "9138         Dist. & retailers              EB01    1037922  \n",
       "11021        Food and beverage              EB01    1781592  \n",
       "11027        Food and beverage              EB01    1781592  \n",
       "12460        Chemical industry              EB01    1033481  \n",
       "12461        Chemical industry              EB01    1033481  \n",
       "14939                   Marine              EB01    1029555  \n",
       "14940                   Marine              EN01    1029555  \n",
       "16220                   Marine              EB01    1043106  \n",
       "16223                   Marine              EN01    1043106  \n",
       "22388      Basic Ind. Metal eo              EB01    1040276  \n",
       "22389      Basic Ind. Metal eo              EB01    1040276  \n",
       "24419              Other Sales              EB01    1741920  \n",
       "24420              Other Sales              EB01    1741920  \n",
       "30092      Distribution Retail              EB01    1026211  \n",
       "30093      Distribution Retail              EB01    1026211  \n",
       "34100              Engineering              EB01    1726415  \n",
       "34101              Engineering              EB01    1726415  \n",
       "34302         Other industries              EB01    1035323  \n",
       "34303         Other industries              EB01    1035323  \n",
       "38972              Other Sales              EB01    1033116  \n",
       "38973              Other Sales              EB01    1033116  \n",
       "40966            Miscellaneous              EB01    1796746  \n",
       "40967            Miscellaneous              EB01    1796746  \n",
       "43253     Food Beverage Tobacc              EB01    1065965  \n",
       "43254     Food Beverage Tobacc              EB01    1065965  \n",
       "44361      Distribution Retail              EB01    1041566  \n",
       "44363      Distribution Retail              EB01    1041566  \n",
       "50322        Chemical industry              EB01    1033378  \n",
       "50323        Chemical industry              EB01    1033378  \n",
       "50858     Engineering Contract              EB01    1796362  \n",
       "50859     Engineering Contract              EB01    1796362  \n",
       "56379               Government              EB01    1034154  \n",
       "56380               Government              EB01    1034154  \n",
       "56386               Government              EB01    1031795  \n",
       "56387               Government              EB01    1031795  \n",
       "58257     Transport by Land eo              EB01    1797447  \n",
       "58258     Transport by Land eo              EB01    1797447  \n",
       "61575       Transport industry              EB01    1026700  \n",
       "61581       Transport industry              EB01    1026700  "
      ]
     },
     "execution_count": 10,
     "metadata": {},
     "output_type": "execute_result"
    }
   ],
   "source": [
    "df_orders_filtered_multiple_turnover_class_customers_anon = df_orders_filtered_multiple_turnover_class_customers.drop(['CustomerName'], axis=1)\n",
    "\n",
    "df_orders_filtered_multiple_turnover_class_customers_anon.head(n = 100)"
   ]
  },
  {
   "cell_type": "markdown",
   "metadata": {},
   "source": [
    "This is a small list of customers, so let's remove them from the main last_orders dataframe and pass them in a separate csv later. "
   ]
  },
  {
   "cell_type": "markdown",
   "metadata": {},
   "source": [
    "## Remove customers with multiple turnover classes on last order date"
   ]
  },
  {
   "cell_type": "code",
   "execution_count": 11,
   "metadata": {},
   "outputs": [
    {
     "name": "stdout",
     "output_type": "stream",
     "text": [
      "42147\n"
     ]
    }
   ],
   "source": [
    "df_orders_filtered = pd.concat([df_orders_filtered, df_orders_filtered_multiple_turnover_class_customers]).drop_duplicates(keep=False)\n",
    "print (len(df_orders_filtered))"
   ]
  },
  {
   "cell_type": "markdown",
   "metadata": {},
   "source": [
    "Length was previously 42193, we had 46 columns from customers with multiple turnover classes (on latest order day), removing them leaves 42147, looks good. "
   ]
  },
  {
   "cell_type": "markdown",
   "metadata": {},
   "source": [
    "# Remove unnecessary columns"
   ]
  },
  {
   "cell_type": "code",
   "execution_count": 12,
   "metadata": {},
   "outputs": [
    {
     "data": {
      "text/plain": [
       "nan    23737\n",
       "E1      6180\n",
       "D1      2260\n",
       "Z5      1375\n",
       "A9      1332\n",
       "D5       953\n",
       "C1       886\n",
       "A5       849\n",
       "B5       813\n",
       "B1       648\n",
       "E5       610\n",
       "C5       572\n",
       "E9       569\n",
       "Z1       517\n",
       "D9       407\n",
       "B9       122\n",
       "P        106\n",
       "A1       100\n",
       "C9        72\n",
       "Z9        39\n",
       "Name: CustomerMarketPotential, dtype: int64"
      ]
     },
     "execution_count": 12,
     "metadata": {},
     "output_type": "execute_result"
    }
   ],
   "source": [
    "df_orders_filtered = df_orders_filtered[['CustomerId', 'CustomerName', 'TurnoverClass', 'CustomerMarketPotential', 'IndustryCode2Description', 'SalesOrganization']]\n",
    "df_orders_filtered.CustomerMarketPotential.value_counts()"
   ]
  },
  {
   "cell_type": "code",
   "execution_count": 13,
   "metadata": {},
   "outputs": [
    {
     "data": {
      "text/plain": [
       "nan    31162\n",
       "F       6713\n",
       "C       1419\n",
       "A        869\n",
       "E        780\n",
       "D        712\n",
       "B        492\n",
       "Name: TurnoverClass, dtype: int64"
      ]
     },
     "execution_count": 13,
     "metadata": {},
     "output_type": "execute_result"
    }
   ],
   "source": [
    "df_orders_filtered.TurnoverClass.value_counts()"
   ]
  },
  {
   "cell_type": "markdown",
   "metadata": {},
   "source": [
    "# Remove numbers from CustomerMarketPotential"
   ]
  },
  {
   "cell_type": "code",
   "execution_count": 14,
   "metadata": {},
   "outputs": [
    {
     "data": {
      "text/plain": [
       "nan    23737\n",
       "E       7359\n",
       "D       3620\n",
       "A       2281\n",
       "Z       1931\n",
       "B       1583\n",
       "C       1530\n",
       "P        106\n",
       "Name: CustomerMarketPotential, dtype: int64"
      ]
     },
     "execution_count": 14,
     "metadata": {},
     "output_type": "execute_result"
    }
   ],
   "source": [
    "df_orders_filtered['CustomerMarketPotential'] = df_orders_filtered['CustomerMarketPotential'].str.replace('\\d+', '')\n",
    "df_orders_filtered.CustomerMarketPotential.value_counts()"
   ]
  },
  {
   "cell_type": "markdown",
   "metadata": {},
   "source": [
    "# If duplicate Turnover Class/Potential check is valid, drop all duplicate customer rows"
   ]
  },
  {
   "cell_type": "code",
   "execution_count": 15,
   "metadata": {},
   "outputs": [
    {
     "data": {
      "text/plain": [
       "nan    23713\n",
       "E       7345\n",
       "D       3617\n",
       "A       2277\n",
       "Z       1912\n",
       "B       1578\n",
       "C       1527\n",
       "P        106\n",
       "Name: CustomerMarketPotential, dtype: int64"
      ]
     },
     "execution_count": 15,
     "metadata": {},
     "output_type": "execute_result"
    }
   ],
   "source": [
    "df_orders_filtered = df_orders_filtered.drop_duplicates('CustomerId')\n",
    "df_orders_filtered.CustomerMarketPotential.value_counts()"
   ]
  },
  {
   "cell_type": "markdown",
   "metadata": {},
   "source": [
    "# Produce 2 lists of turnover classes, NL and BE ( not used with static list creation)\n"
   ]
  },
  {
   "cell_type": "code",
   "execution_count": 16,
   "metadata": {},
   "outputs": [],
   "source": [
    "list_NL_Classes = df_orders_filtered.CustomerMarketPotential.value_counts().index.tolist()\n",
    "list_BE_Classes = df_orders_filtered.TurnoverClass.value_counts().index.tolist()"
   ]
  },
  {
   "cell_type": "markdown",
   "metadata": {},
   "source": [
    "# Filter dataframe on each turnover class, extract customer names"
   ]
  },
  {
   "cell_type": "code",
   "execution_count": 17,
   "metadata": {},
   "outputs": [],
   "source": [
    "def get_lists(dataframe, turnover_class, country_code):\n",
    "    if str(country_code) == 'NL':\n",
    "        list_customers = dataframe[dataframe['CustomerMarketPotential'] == turnover_class].CustomerName.value_counts().index.tolist()\n",
    "    elif country_code == 'BE':\n",
    "        list_customers = dataframe[dataframe['TurnoverClass'] == turnover_class].CustomerName.value_counts().index.tolist()\n",
    "    else:\n",
    "        print (\"Wrong country code, 'NL' or 'BE' only\")\n",
    "    list_customers.sort()\n",
    "    return list_customers"
   ]
  },
  {
   "cell_type": "code",
   "execution_count": 18,
   "metadata": {},
   "outputs": [],
   "source": [
    "list_Customers_NL_A = get_lists(df_orders_filtered, 'A', 'NL')\n",
    "list_Customers_NL_B = get_lists(df_orders_filtered, 'B', 'NL')\n",
    "list_Customers_NL_C = get_lists(df_orders_filtered, 'C', 'NL')\n",
    "list_Customers_NL_D = get_lists(df_orders_filtered, 'D', 'NL')\n",
    "list_Customers_NL_E = get_lists(df_orders_filtered, 'E', 'NL')\n",
    "list_Customers_NL_F = get_lists(df_orders_filtered, 'F', 'NL')\n",
    "#Ideally, these variables would be created dynamically, by appending each class name in above class list to a base variable name.\n",
    "\n",
    "list_Customers_BE_A = get_lists(df_orders_filtered, 'A', 'BE')\n",
    "list_Customers_BE_B = get_lists(df_orders_filtered, 'B', 'BE')\n",
    "list_Customers_BE_C = get_lists(df_orders_filtered, 'C', 'BE')\n",
    "list_Customers_BE_D = get_lists(df_orders_filtered, 'D', 'BE')\n",
    "list_Customers_BE_E = get_lists(df_orders_filtered, 'E', 'BE')\n",
    "list_Customers_BE_F = get_lists(df_orders_filtered, 'F', 'BE')\n"
   ]
  },
  {
   "cell_type": "markdown",
   "metadata": {},
   "source": [
    "# Clean strings, keeping only letters and numbers"
   ]
  },
  {
   "cell_type": "code",
   "execution_count": 19,
   "metadata": {},
   "outputs": [],
   "source": [
    "list_of_lists = [list_Customers_NL_A, list_Customers_NL_B, list_Customers_NL_C, list_Customers_NL_D, list_Customers_NL_E, list_Customers_NL_F, \n",
    "                list_Customers_BE_A, list_Customers_BE_B, list_Customers_BE_C, list_Customers_BE_D, list_Customers_BE_E, list_Customers_BE_F]\n",
    "\n",
    "for list_instance in list_of_lists:\n",
    "    for index, i in enumerate(list_instance):\n",
    "        i = re.sub('[^a-zA-Z0-9]+', ' ', i)\n",
    "        list_instance[index] = i"
   ]
  },
  {
   "cell_type": "code",
   "execution_count": 20,
   "metadata": {},
   "outputs": [],
   "source": [
    "def turn_list_into_bar_delimited_string(filename, list_of_customers):\n",
    "    with open(filename, 'w') as out_f:\n",
    "        for index, l in enumerate(list_of_customers):\n",
    "            if index == len(list_of_customers) - 1:          \n",
    "                out_f.write(l)\n",
    "            else:\n",
    "                out_f.write(l + '|')"
   ]
  },
  {
   "cell_type": "markdown",
   "metadata": {},
   "source": [
    "# Write results to csv files"
   ]
  },
  {
   "cell_type": "code",
   "execution_count": 21,
   "metadata": {},
   "outputs": [],
   "source": [
    "#NL\n",
    "turn_list_into_bar_delimited_string(r'NL_A.csv', list_Customers_NL_A)\n",
    "turn_list_into_bar_delimited_string(r'NL_B.csv', list_Customers_NL_B)\n",
    "turn_list_into_bar_delimited_string(r'NL_C.csv', list_Customers_NL_C)\n",
    "turn_list_into_bar_delimited_string(r'NL_D.csv', list_Customers_NL_D)\n",
    "turn_list_into_bar_delimited_string(r'NL_E.csv', list_Customers_NL_E)\n",
    "turn_list_into_bar_delimited_string(r'NL_F.csv', list_Customers_NL_F)\n",
    "\n",
    "turn_list_into_bar_delimited_string(r'BE_A.csv', list_Customers_BE_A)\n",
    "turn_list_into_bar_delimited_string(r'BE_B.csv', list_Customers_BE_B)\n",
    "turn_list_into_bar_delimited_string(r'BE_C.csv', list_Customers_BE_C)\n",
    "turn_list_into_bar_delimited_string(r'BE_D.csv', list_Customers_BE_D)\n",
    "turn_list_into_bar_delimited_string(r'BE_E.csv', list_Customers_BE_E)\n",
    "turn_list_into_bar_delimited_string(r'BE_F.csv', list_Customers_BE_F)\n"
   ]
  }
 ],
 "metadata": {
  "kernelspec": {
   "display_name": "Python 3",
   "language": "python",
   "name": "python3"
  },
  "language_info": {
   "codemirror_mode": {
    "name": "ipython",
    "version": 3
   },
   "file_extension": ".py",
   "mimetype": "text/x-python",
   "name": "python",
   "nbconvert_exporter": "python",
   "pygments_lexer": "ipython3",
   "version": "3.8.3"
  },
  "toc": {
   "base_numbering": 1,
   "nav_menu": {},
   "number_sections": true,
   "sideBar": true,
   "skip_h1_title": false,
   "title_cell": "Table of Contents",
   "title_sidebar": "Contents",
   "toc_cell": false,
   "toc_position": {},
   "toc_section_display": true,
   "toc_window_display": true
  },
  "varInspector": {
   "cols": {
    "lenName": 16,
    "lenType": 16,
    "lenVar": 40
   },
   "kernels_config": {
    "python": {
     "delete_cmd_postfix": "",
     "delete_cmd_prefix": "del ",
     "library": "var_list.py",
     "varRefreshCmd": "print(var_dic_list())"
    },
    "r": {
     "delete_cmd_postfix": ") ",
     "delete_cmd_prefix": "rm(",
     "library": "var_list.r",
     "varRefreshCmd": "cat(var_dic_list()) "
    }
   },
   "types_to_exclude": [
    "module",
    "function",
    "builtin_function_or_method",
    "instance",
    "_Feature"
   ],
   "window_display": false
  }
 },
 "nbformat": 4,
 "nbformat_minor": 2
}
