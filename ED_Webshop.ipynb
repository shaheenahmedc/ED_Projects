{
 "cells": [
  {
   "cell_type": "markdown",
   "metadata": {},
   "source": [
    "# Imports "
   ]
  },
  {
   "cell_type": "code",
   "execution_count": 1,
   "metadata": {},
   "outputs": [],
   "source": [
    "import pandas as pd\n",
    "import numpy as np\n",
    "from datetime import datetime as dt\n",
    "import warnings\n",
    "warnings.filterwarnings('ignore')\n",
    "from datetime import date\n",
    "import matplotlib.pyplot as plt\n",
    "from matplotlib.dates import date2num\n"
   ]
  },
  {
   "cell_type": "markdown",
   "metadata": {},
   "source": [
    "# Read CSV functions\n"
   ]
  },
  {
   "cell_type": "code",
   "execution_count": 2,
   "metadata": {},
   "outputs": [],
   "source": [
    "#This function takes input from OrdersNLBE table, saved as CSV. \n",
    "#Contains all orders placed in 2019. \n",
    "def import_and_clean_orders_nlbe_data(filepath):\n",
    "    df = pd.read_csv(filepath, encoding = 'utf-8')\n",
    "    df.CustomerId = df.CustomerId.astype(str) \n",
    "    df.CustomerMarketPotential = df.CustomerMarketPotential.astype(str)\n",
    "    df['SalesDocumentHeaderCreationDate'] = pd.to_datetime(df['SalesDocumentHeaderCreationDate'])\n",
    "    return df\n",
    "\n",
    "#This function takes input from a manual SQL query, returning a list of customer IDs and their webshop first order date \n",
    "def read_first_orders_file(filepath):\n",
    "    df = pd.read_csv(filepath, encoding = 'utf-8')\n",
    "    df.CustomerId = df.CustomerId.astype(str) \n",
    "    df['FirstOrderDate'] = pd.to_datetime(df['FirstOrderDate'])\n",
    "    df['Year_of_first_order'] = df['FirstOrderDate'].dt.strftime('%Y')\n",
    "    return df\n"
   ]
  },
  {
   "cell_type": "markdown",
   "metadata": {},
   "source": [
    "# Import data "
   ]
  },
  {
   "cell_type": "code",
   "execution_count": 131,
   "metadata": {},
   "outputs": [],
   "source": [
    "df_orders = import_and_clean_orders_nlbe_data(r\"C:\\Users\\Shaheen.Ahmed\\Documents\\Webshop analysis\\2019_webshop_orders_NL.csv\")\n",
    "df_first_order_dates = read_first_orders_file(r\"C:\\Users\\Shaheen.Ahmed\\Documents\\Webshop analysis\\Customer_first_orders_NL.csv\")"
   ]
  },
  {
   "cell_type": "markdown",
   "metadata": {},
   "source": [
    "# Functions for new/existing customer filtering, and summary statistics"
   ]
  },
  {
   "cell_type": "code",
   "execution_count": 132,
   "metadata": {},
   "outputs": [],
   "source": [
    "#This function filters the first orders df, for customers who placed their first webshop order in given year. \n",
    "#It then filters the orders df on the customer IDs of these new customers. \n",
    "#Year to be passed as string. \n",
    "def filter_orders_for_new_customers(df_first_order_dates, df_orders, year):\n",
    "    df_new_customer_IDs = df_first_order_dates[df_first_order_dates['Year_of_first_order'] == year]\n",
    "    df_orders = df_orders[df_orders['CustomerId'].isin(df_new_customer_IDs.CustomerId)]\n",
    "    return df_orders, df_new_customer_IDs\n",
    "\n",
    "#This function filters the first orders df, for customers who placed their first webshop order before given year. \n",
    "def filter_orders_for_existing_customers(df_first_order_dates, df_orders, year):\n",
    "    df_existing_customer_IDs = df_first_order_dates[df_first_order_dates['Year_of_first_order'] < year]\n",
    "    df_orders = df_orders[df_orders['CustomerId'].isin(df_existing_customer_IDs.CustomerId)]\n",
    "    return df_orders, df_existing_customer_IDs\n",
    "\n",
    "# This function calculates some summary statistics for the orders df.\n",
    "def get_statistics_for_orders(df_orders, Title):\n",
    "    print (Title)\n",
    "    print (\"Number of orderlines: \", len(df_orders))\n",
    "    print (\"Number of customers: \",  df_orders.CustomerId.nunique())\n",
    "    Total_sales = df_orders.SalesValue.sum().round()\n",
    "    print (\"Total Sales from customers: \", df_orders.SalesValue.sum().round())\n",
    "    print (\"AOLV:\", (Total_sales / len(df_orders)).round())\n",
    "    print (\"Revenue per customer:\", (Total_sales / df_orders.CustomerId.nunique()).round())\n",
    "    print (\"\")"
   ]
  },
  {
   "cell_type": "markdown",
   "metadata": {},
   "source": [
    "# Split orders df into new and existing customer orders, 2018 customers and get statistics "
   ]
  },
  {
   "cell_type": "code",
   "execution_count": 135,
   "metadata": {},
   "outputs": [
    {
     "name": "stdout",
     "output_type": "stream",
     "text": [
      "All Customer Orders in 2019\n",
      "Number of orderlines:  113363\n",
      "Number of customers:  7026\n",
      "Total Sales from customers:  10722560.0\n",
      "AOLV: 95.0\n",
      "Revenue per customer: 1526.0\n",
      "\n",
      "New Customer Orders in 2019\n",
      "Number of orderlines:  22829\n",
      "Number of customers:  4291\n",
      "Total Sales from customers:  2290870.0\n",
      "AOLV: 100.0\n",
      "Revenue per customer: 534.0\n",
      "\n",
      "Existing Customer Orders in 2019\n",
      "Number of orderlines:  90534\n",
      "Number of customers:  2735\n",
      "Total Sales from customers:  8431690.0\n",
      "AOLV: 93.0\n",
      "Revenue per customer: 3083.0\n",
      "\n",
      "Summary Stats:\n",
      "Number of Existing Customers:  5172\n",
      "Number of New Customers:  4291\n",
      "Total Number of Customers (NL, Webshop):  9885\n",
      "New + Existing: 9463\n",
      "Total - (New + Existing) 422\n",
      "2019    4291\n",
      "2018    2474\n",
      "2017    1369\n",
      "2016    1329\n",
      "2020     422\n",
      "Name: Year_of_first_order, dtype: int64\n"
     ]
    }
   ],
   "source": [
    "df_orders_for_new_customers, df_new_customer_IDs = filter_orders_for_new_customers(df_first_order_dates, df_orders, '2019')\n",
    "df_orders_for_existing_customers, df_existing_customer_IDs = filter_orders_for_existing_customers(df_first_order_dates, df_orders, '2019')\n",
    "df_orders_for_2018_customers, df_2018_customer_IDs = filter_orders_for_new_customers(df_first_order_dates, df_orders, '2018')\n",
    "\n",
    "get_statistics_for_orders(df_orders, 'All Customer Orders in 2019')\n",
    "get_statistics_for_orders(df_orders_for_new_customers, 'New Customer Orders in 2019')\n",
    "get_statistics_for_orders(df_orders_for_existing_customers, 'Existing Customer Orders in 2019')\n",
    "\n",
    "print (\"Summary Stats:\")\n",
    "print (\"Number of Existing Customers: \", len(df_existing_customer_IDs))\n",
    "print (\"Number of New Customers: \", len(df_new_customer_IDs))\n",
    "print (\"Total Number of Customers (NL, Webshop): \", len(df_first_order_dates))\n",
    "print (\"New + Existing:\", len(df_existing_customer_IDs) + len(df_new_customer_IDs))\n",
    "print (\"Total - (New + Existing)\",  len(df_first_order_dates) - (len(df_existing_customer_IDs) + len(df_new_customer_IDs)))\n",
    "print (df_first_order_dates.Year_of_first_order.value_counts())"
   ]
  },
  {
   "cell_type": "markdown",
   "metadata": {},
   "source": [
    "# Import 2018 orders data, filter on existing customer IDs, get statistics"
   ]
  },
  {
   "cell_type": "code",
   "execution_count": 137,
   "metadata": {},
   "outputs": [
    {
     "name": "stdout",
     "output_type": "stream",
     "text": [
      "Existing Customer Orders in 2018\n",
      "Number of orderlines:  74503\n",
      "Number of customers:  2433\n",
      "Total Sales from customers:  6284296.0\n",
      "AOLV: 84.0\n",
      "Revenue per customer: 2583.0\n",
      "\n"
     ]
    }
   ],
   "source": [
    "df_orders_18 = import_and_clean_orders_nlbe_data(r\"C:\\Users\\Shaheen.Ahmed\\Documents\\Webshop analysis\\2018_webshop_orders_NL.csv\")\n",
    "df_orders_18_filtered = df_orders_18[df_orders_18['CustomerId'].isin(df_orders_for_existing_customers.CustomerId)]\n",
    "get_statistics_for_orders(df_orders_18_filtered, 'Existing Customer Orders in 2018')\n"
   ]
  },
  {
   "cell_type": "markdown",
   "metadata": {},
   "source": [
    "# Compare Year-on-Year function, run for existing customer base for 2018 vs 2019"
   ]
  },
  {
   "cell_type": "code",
   "execution_count": 12,
   "metadata": {},
   "outputs": [
    {
     "name": "stdout",
     "output_type": "stream",
     "text": [
      "YoY Orderlines change: 21.51725433875147 %\n",
      "YoY Customers change: 12.412659268392929 %\n",
      "YoY Sales Value change: 34.170800576747496 %\n",
      "YoY AOLV change: 10.412962592721172 %\n",
      "YoY Revenue Per Customer change: 10.412962592721172 %\n"
     ]
    }
   ],
   "source": [
    "def compare_year_on_year(df_orders_year_1, df_orders_year_2):\n",
    "    Number_Orderlines_Year_1 = len(df_orders_year_1)\n",
    "    Number_Orderlines_Year_2 = len(df_orders_year_2)\n",
    "    Number_Customers_Year_1 = df_orders_year_1.CustomerId.nunique()\n",
    "    Number_Customers_Year_2 = df_orders_year_2.CustomerId.nunique()\n",
    "    Sales_Value_Year_1 = df_orders_year_1.SalesValue.sum()\n",
    "    Sales_Value_Year_2 = df_orders_year_2.SalesValue.sum()\n",
    "    AOLV_Year_1 = df_orders_year_1.SalesValue.sum() / len(df_orders_year_1)\n",
    "    AOLV_Year_2 = df_orders_year_2.SalesValue.sum() / len(df_orders_year_2)\n",
    "    Total_sales_year_1 = df_orders_year_1.SalesValue.sum()\n",
    "    Total_sales_year_2 = df_orders_year_2.SalesValue.sum()\n",
    "\n",
    "    Revenue_Per_Customer_Year_1 = (Total_sales_year_1 / df_orders_year_1.CustomerId.nunique())\n",
    "    Revenue_Per_Customer_Year_2 = (Total_sales_year_2 / df_orders_year_2.CustomerId.nunique())\n",
    "\n",
    "    print (\"YoY Orderlines change:\", ((Number_Orderlines_Year_2 / Number_Orderlines_Year_1) * 100) - 100, \"%\")\n",
    "    print (\"YoY Customers change:\", ((Number_Customers_Year_2 / Number_Customers_Year_1) * 100) - 100, \"%\")\n",
    "    print (\"YoY Sales Value change:\", ((Sales_Value_Year_2 / Sales_Value_Year_1) * 100) - 100, \"%\")\n",
    "    print (\"YoY AOLV change:\", ((AOLV_Year_2 / AOLV_Year_1) * 100) - 100, \"%\")\n",
    "    print (\"YoY Revenue Per Customer change:\", ((AOLV_Year_2 / AOLV_Year_1) * 100) - 100, \"%\")\n",
    "\n"
   ]
  },
  {
   "cell_type": "markdown",
   "metadata": {},
   "source": [
    "# Compare 18 vs 19 customer orders, for existing customers as of 2019, who ordered in 18 and 19. \n"
   ]
  },
  {
   "cell_type": "code",
   "execution_count": 138,
   "metadata": {
    "scrolled": true
   },
   "outputs": [
    {
     "name": "stdout",
     "output_type": "stream",
     "text": [
      "Existing Customers, active in 18, orders in 19\n",
      "Number of orderlines:  88672\n",
      "Number of customers:  2433\n",
      "Total Sales from customers:  8230477.0\n",
      "AOLV: 93.0\n",
      "Revenue per customer: 3383.0\n",
      "\n",
      "Existing Customer Orders in 2018\n",
      "Number of orderlines:  74503\n",
      "Number of customers:  2433\n",
      "Total Sales from customers:  6284296.0\n",
      "AOLV: 84.0\n",
      "Revenue per customer: 2583.0\n",
      "\n",
      "YoY Orderlines change: 19.018026119753557 %\n",
      "YoY Customers change: 0.0 %\n",
      "YoY Sales Value change: 30.968961538664445 %\n",
      "YoY AOLV change: 10.041281819685082 %\n",
      "YoY Revenue Per Customer change: 10.041281819685082 %\n"
     ]
    }
   ],
   "source": [
    "IDs_of_2018_Existing = df_orders_18_filtered.CustomerId.unique()\n",
    "df_orders_19_with_Existing_Customers_Active_In_2018 = df_orders[df_orders['CustomerId'].isin(IDs_of_2018_Existing)]\n",
    "get_statistics_for_orders(df_orders_19_with_Existing_Customers_Active_In_2018, 'Existing Customers, active in 18, orders in 19')\n",
    "get_statistics_for_orders(df_orders_18_filtered, 'Existing Customer Orders in 2018')\n",
    "compare_year_on_year(df_orders_18_filtered, df_orders_19_with_Existing_Customers_Active_In_2018)\n"
   ]
  },
  {
   "cell_type": "markdown",
   "metadata": {},
   "source": [
    "# Import joined Channel data"
   ]
  },
  {
   "cell_type": "code",
   "execution_count": 17,
   "metadata": {},
   "outputs": [],
   "source": [
    "df_orders_plus_channel = import_and_clean_orders_nlbe_data(r\"C:\\Users\\Shaheen.Ahmed\\Documents\\Webshop analysis\\2019_channel_webshop_table.csv\")\n"
   ]
  },
  {
   "cell_type": "markdown",
   "metadata": {},
   "source": [
    "# Divide into new and existing"
   ]
  },
  {
   "cell_type": "code",
   "execution_count": 19,
   "metadata": {},
   "outputs": [],
   "source": [
    "df_orders_channels_new = df_orders_plus_channel[df_orders_plus_channel['CustomerId'].isin(df_orders_for_new_customers.CustomerId)]\n",
    "df_orders_channels_existing = df_orders_plus_channel[df_orders_plus_channel['CustomerId'].isin(df_orders_for_existing_customers.CustomerId)]\n",
    "\n",
    "df_orders_channels_new['Percentage_Sales'] = (df_orders_channels_new['SalesValue'] / df_orders_channels_new.SalesValue.sum() ) * 100\n",
    "df_orders_channels_existing['Percentage_Sales'] = (df_orders_channels_existing['SalesValue'] / df_orders_channels_existing.SalesValue.sum() ) * 100\n"
   ]
  },
  {
   "cell_type": "markdown",
   "metadata": {},
   "source": [
    "# Plot Sales Value by Channel for new customers "
   ]
  },
  {
   "cell_type": "code",
   "execution_count": 139,
   "metadata": {},
   "outputs": [
    {
     "data": {
      "text/plain": [
       "<matplotlib.axes._subplots.AxesSubplot at 0x2790644a9b0>"
      ]
     },
     "execution_count": 139,
     "metadata": {},
     "output_type": "execute_result"
    },
    {
     "data": {
      "image/png": "[encoded data removed]",
      "text/plain": [
       "<Figure size 432x288 with 1 Axes>"
      ]
     },
     "metadata": {
      "needs_background": "light"
     },
     "output_type": "display_data"
    }
   ],
   "source": [
    "df_orders_channels_new.groupby(['Channel'])['SalesValue'].agg('sum').plot.bar()"
   ]
  },
  {
   "cell_type": "markdown",
   "metadata": {},
   "source": [
    "# Plot % Sales by Channel "
   ]
  },
  {
   "cell_type": "code",
   "execution_count": 142,
   "metadata": {},
   "outputs": [
    {
     "data": {
      "text/plain": [
       "<matplotlib.axes._subplots.AxesSubplot at 0x279084fe710>"
      ]
     },
     "execution_count": 142,
     "metadata": {},
     "output_type": "execute_result"
    },
    {
     "data": {
      "image/png": "[encoded data removed]",
      "text/plain": [
       "<Figure size 432x288 with 1 Axes>"
      ]
     },
     "metadata": {
      "needs_background": "light"
     },
     "output_type": "display_data"
    }
   ],
   "source": [
    "df_orders_channels_new.groupby(['Channel'])['Percentage_Sales'].agg('sum').plot.bar()\n"
   ]
  },
  {
   "cell_type": "markdown",
   "metadata": {},
   "source": [
    "# Plot Sales by Channel for existing customers"
   ]
  },
  {
   "cell_type": "code",
   "execution_count": 23,
   "metadata": {},
   "outputs": [
    {
     "data": {
      "text/plain": [
       "<matplotlib.axes._subplots.AxesSubplot at 0x2790cf36198>"
      ]
     },
     "execution_count": 23,
     "metadata": {},
     "output_type": "execute_result"
    },
    {
     "data": {
      "image/png": "[encoded data removed]",
      "text/plain": [
       "<Figure size 432x288 with 1 Axes>"
      ]
     },
     "metadata": {
      "needs_background": "light"
     },
     "output_type": "display_data"
    }
   ],
   "source": [
    "df_orders_channels_existing.groupby(['Channel'])['SalesValue'].agg('sum').plot.bar()"
   ]
  },
  {
   "cell_type": "markdown",
   "metadata": {},
   "source": [
    "# Plot % Sales for existing"
   ]
  },
  {
   "cell_type": "code",
   "execution_count": 24,
   "metadata": {},
   "outputs": [
    {
     "data": {
      "text/plain": [
       "<matplotlib.axes._subplots.AxesSubplot at 0x27908bd9cf8>"
      ]
     },
     "execution_count": 24,
     "metadata": {},
     "output_type": "execute_result"
    },
    {
     "data": {
      "image/png": "[encoded data removed]",
      "text/plain": [
       "<Figure size 432x288 with 1 Axes>"
      ]
     },
     "metadata": {
      "needs_background": "light"
     },
     "output_type": "display_data"
    }
   ],
   "source": [
    "df_orders_channels_existing.groupby(['Channel'])['Percentage_Sales'].agg('sum').plot.bar()"
   ]
  },
  {
   "cell_type": "markdown",
   "metadata": {},
   "source": [
    "# Create keys for new and existing to plot on same figure"
   ]
  },
  {
   "cell_type": "code",
   "execution_count": 144,
   "metadata": {},
   "outputs": [
    {
     "data": {
      "image/png": "[encoded data removed]",
      "text/plain": [
       "<Figure size 432x288 with 1 Axes>"
      ]
     },
     "metadata": {
      "needs_background": "light"
     },
     "output_type": "display_data"
    }
   ],
   "source": [
    "df_orders_channels_new['Key'] = 'New'\n",
    "df_orders_channels_existing['Key'] = 'Existing'\n",
    "df_new_and_existing = pd.concat([df_orders_channels_new, df_orders_channels_existing],keys=['New','Existing'])\n",
    "df_orders_channels_grouped_all = df_new_and_existing.groupby(['Channel', 'Key'])['SalesValue'].agg('sum')\n",
    "df_plotting = df_orders_channels_grouped_all.unstack('Key').plot(kind = 'bar')"
   ]
  },
  {
   "cell_type": "markdown",
   "metadata": {},
   "source": [
    "# Plot % Sales for new and existing"
   ]
  },
  {
   "cell_type": "code",
   "execution_count": 233,
   "metadata": {},
   "outputs": [
    {
     "data": {
      "image/png": "[encoded data removed]",
      "text/plain": [
       "<Figure size 432x288 with 1 Axes>"
      ]
     },
     "metadata": {
      "needs_background": "light"
     },
     "output_type": "display_data"
    }
   ],
   "source": [
    "df_orders_channels_grouped_all_2 = df_new_and_existing.groupby(['Channel', 'Key'])['Percentage_Sales'].agg('sum')\n",
    "ax = df_orders_channels_grouped_all_2.unstack('Key').plot(kind = 'bar')\n",
    "ax.set_xlabel(\"Channel\")\n",
    "ax.set_ylabel(\"% Total Sales Value\")\n",
    "plt.title(\"2019 Sales Value - by Channel and New/Existing\")\n",
    "plt.xticks(rotation=45)\n",
    "plt.tight_layout()\n",
    "\n",
    "plt.savefig(r'C:\\Users\\Shaheen.Ahmed\\Documents\\Webshop analysis\\Channel_breakdown.png', dpi=600)"
   ]
  },
  {
   "cell_type": "code",
   "execution_count": null,
   "metadata": {},
   "outputs": [],
   "source": []
  },
  {
   "cell_type": "markdown",
   "metadata": {},
   "source": [
    "Plan:\n",
    "Join AdSpend and Campaign ID together first, on CampaignId and Date. \n",
    "CampaignOrders will probably have multiple entries per date-campaignId pair. This means multiple orders were assigned to Campaigns on a single day. \n",
    "\n",
    "Found that there are multiple Channels sometimes for one CampaignId, but when AdSpend grouped by SetDate and CampaignId, only one channel per group. \n",
    "\n",
    "Issue:\n",
    "We want to attach AdSpend to OrdersNLBE, but AdSpend table isn't on order level, it's on campaign level. \n",
    "\n",
    "I'd propose just grouping by CampaignID, SetDate, Channel and AdSpend, as Channel and AdSpend are unique for each SetDate and Campaign Id pair (checked). \n",
    "\n",
    "But, while this would allow us to get ROAS per channel, we wouldn't then be able to look at ROAS for new vs existing, or by BU etc. \n",
    "\n",
    "So we need to join Adspend on CampaignId, by day, and then join that to orders via transaction id and order number (as already done). \n",
    "\n",
    "Duplicates check:\n",
    "90748 - number of rows from count(distinct(OriginalOrderNumber)) on input SQL query.\n",
    "92183 - number of rows from count(*) on input SQL query.\n",
    "\n",
    "\n",
    "\n"
   ]
  },
  {
   "cell_type": "markdown",
   "metadata": {},
   "source": [
    "# Import Adspend, Channel data, joined to Orders"
   ]
  },
  {
   "cell_type": "code",
   "execution_count": 148,
   "metadata": {},
   "outputs": [],
   "source": [
    "col_names = pd.read_csv(r\"C:\\Users\\Shaheen.Ahmed\\Documents\\Webshop analysis\\Orders_Campaign_Adspend_joined.csv\", encoding = 'utf-8', nrows=0).columns\n",
    "types_dict = {'SalesValue': float, 'AdSpend': float}\n",
    "types_dict.update({col: str for col in col_names if col not in types_dict})\n",
    "df_orders_campaigns_adspend = pd.read_csv(r\"C:\\Users\\Shaheen.Ahmed\\Documents\\Webshop analysis\\Orders_Campaign_Adspend_joined.csv\", encoding = 'utf-8', dtype=types_dict)\n",
    "df_orders_campaigns_adspend['SalesDocumentHeaderCreationDate'] = pd.to_datetime(df_orders_campaigns_adspend['SalesDocumentHeaderCreationDate'])"
   ]
  },
  {
   "cell_type": "markdown",
   "metadata": {},
   "source": [
    "# Group by Date and Campaign ID (Ad Spend unique to campaign), and divide Ad Spend by length of each group (number of orderlines)\n",
    "#### Incredibly simple attribution model: Ad Spend on a certain day solely responsible for all orderlines on that day. ROAS = Ad Spend / number of orderlines"
   ]
  },
  {
   "cell_type": "code",
   "execution_count": 149,
   "metadata": {},
   "outputs": [],
   "source": [
    "Adspend_scaling_group_by = df_orders_campaigns_adspend.groupby(['SalesDocumentHeaderCreationDate', 'CampaignId.1']).apply(lambda x: x['AdSpend']/len(x)).rename('AdSpend_Scaled').reset_index()"
   ]
  },
  {
   "cell_type": "markdown",
   "metadata": {},
   "source": [
    "# Drop duplicates from group by (cast to df), ad spend unique across date-campaign id pairs "
   ]
  },
  {
   "cell_type": "code",
   "execution_count": 151,
   "metadata": {},
   "outputs": [],
   "source": [
    "Adspend_scaling_group_by = Adspend_scaling_group_by.drop_duplicates(subset=['SalesDocumentHeaderCreationDate', 'CampaignId.1'], keep='last')"
   ]
  },
  {
   "cell_type": "markdown",
   "metadata": {},
   "source": [
    "# Join scaled ad spend to orders-campaign-adspend df"
   ]
  },
  {
   "cell_type": "code",
   "execution_count": 152,
   "metadata": {},
   "outputs": [],
   "source": [
    "df_with_adspend_scaled = pd.merge(df_orders_campaigns_adspend, _,  how='left', left_on=['SalesDocumentHeaderCreationDate','CampaignId.1'], right_on = ['SalesDocumentHeaderCreationDate','CampaignId.1'])"
   ]
  },
  {
   "cell_type": "markdown",
   "metadata": {},
   "source": [
    "# Divide df into new and existing customers"
   ]
  },
  {
   "cell_type": "code",
   "execution_count": 157,
   "metadata": {},
   "outputs": [],
   "source": [
    "df_adspend_scaled_new_customers = df_with_adspend_scaled[df_with_adspend_scaled['CustomerId'].isin(df_new_customer_IDs.CustomerId)]\n",
    "df_adspend_scaled_existing_customers = df_with_adspend_scaled[df_with_adspend_scaled['CustomerId'].isin(df_existing_customer_IDs.CustomerId)]"
   ]
  },
  {
   "cell_type": "markdown",
   "metadata": {},
   "source": [
    "# Divide Sales Value by Ad Spend for each Channel, and plot (new customers)"
   ]
  },
  {
   "cell_type": "code",
   "execution_count": 168,
   "metadata": {},
   "outputs": [
    {
     "data": {
      "text/plain": [
       "<matplotlib.axes._subplots.AxesSubplot at 0x27907281e80>"
      ]
     },
     "execution_count": 168,
     "metadata": {},
     "output_type": "execute_result"
    },
    {
     "data": {
      "image/png": "[encoded data removed]",
      "text/plain": [
       "<Figure size 432x288 with 1 Axes>"
      ]
     },
     "metadata": {
      "needs_background": "light"
     },
     "output_type": "display_data"
    }
   ],
   "source": [
    "def divide_two_cols(df_sub):\n",
    "    df_sub['ROAS'] = float(df_sub['SalesValue'].sum()) / float(df_sub['AdSpend_Scaled'].sum())\n",
    "    return df_sub\n",
    "\n",
    "df_adspend_scaled_new_customers = df_adspend_scaled_new_customers.groupby('Channel').apply(divide_two_cols)\n",
    "df_adspend_scaled_new_customers.groupby(['Channel'])['ROAS'].agg('min').plot.bar()"
   ]
  },
  {
   "cell_type": "markdown",
   "metadata": {},
   "source": [
    "# Divide Sales Value by Ad Spend for each Channel, and plot (existing customers)"
   ]
  },
  {
   "cell_type": "code",
   "execution_count": 169,
   "metadata": {},
   "outputs": [
    {
     "data": {
      "text/plain": [
       "<matplotlib.axes._subplots.AxesSubplot at 0x279087fc358>"
      ]
     },
     "execution_count": 169,
     "metadata": {},
     "output_type": "execute_result"
    },
    {
     "data": {
      "image/png": "[encoded data removed]",
      "text/plain": [
       "<Figure size 432x288 with 1 Axes>"
      ]
     },
     "metadata": {
      "needs_background": "light"
     },
     "output_type": "display_data"
    }
   ],
   "source": [
    "df_adspend_scaled_existing_customers = df_adspend_scaled_existing_customers.groupby('Channel').apply(divide_two_cols)\n",
    "df_adspend_scaled_existing_customers.groupby(['Channel'])['ROAS'].agg('min').plot.bar()"
   ]
  },
  {
   "cell_type": "markdown",
   "metadata": {},
   "source": [
    "# Plot New vs Exising ROAS together "
   ]
  },
  {
   "cell_type": "code",
   "execution_count": 239,
   "metadata": {},
   "outputs": [
    {
     "data": {
      "image/png": "[encoded data removed]",
      "text/plain": [
       "<Figure size 432x288 with 1 Axes>"
      ]
     },
     "metadata": {
      "needs_background": "light"
     },
     "output_type": "display_data"
    }
   ],
   "source": [
    "df_adspend_scaled_new_customers['Key'] = 'New'\n",
    "df_adspend_scaled_existing_customers['Key'] = 'Existing'\n",
    "df_new_and_existing_adspend_scaled = pd.concat([df_adspend_scaled_new_customers, df_adspend_scaled_existing_customers],keys=['New','Existing'])\n",
    "df_adspend_scaled_grouped_all = df_new_and_existing_adspend_scaled.groupby(['Channel', 'Key'])['ROAS'].agg('min')\n",
    "df_adspend_scaled_grouped_all.head()\n",
    "df_plotting = df_adspend_scaled_grouped_all.unstack('Key').plot(kind = 'bar')\n",
    "\n",
    "plt.title(\"ROAS - by Channel and New/Existing\")\n",
    "df_plotting.set_ylabel(\"ROAS\")\n",
    "plt.xticks(rotation=45)\n",
    "plt.tight_layout()\n",
    "\n",
    "plt.savefig(r'C:\\Users\\Shaheen.Ahmed\\Documents\\Webshop analysis\\ROAS.png', dpi=900)\n"
   ]
  },
  {
   "cell_type": "code",
   "execution_count": 215,
   "metadata": {},
   "outputs": [
    {
     "data": {
      "image/png": "[encoded data removed]",
      "text/plain": [
       "<Figure size 432x288 with 1 Axes>"
      ]
     },
     "metadata": {},
     "output_type": "display_data"
    }
   ],
   "source": [
    "# Pie chart, where the slices will be ordered and plotted counter-clockwise:\n",
    "labels = 'New (2.3m)', 'Existing (8.4m)'\n",
    "sizes = [2.3, 8.4]\n",
    "explode = (0, 0)  # only \"explode\" the 2nd slice (i.e. 'Hogs')\n",
    "\n",
    "fig1, ax1 = plt.subplots()\n",
    "ax1.pie(sizes, labels=labels, autopct='%1.1f%%')\n",
    "ax1.axis('equal')  # Equal aspect ratio ensures that pie is drawn as a circle.\n",
    "fig1.set_tight_layout(True)\n",
    "\n",
    "plt.title(\"Revenue - 2019\")\n",
    "plt.savefig(r'C:\\Users\\Shaheen.Ahmed\\Documents\\Webshop analysis\\new_existing_revenue.png', dpi=900)\n",
    "plt.show()\n"
   ]
  },
  {
   "cell_type": "markdown",
   "metadata": {},
   "source": [
    "New Customer Orders in 2019\n",
    "Number of orderlines:  22829\n",
    "Number of customers:  4291\n",
    "Total Sales from customers:  2290870.0\n",
    "AOLV: 100.0\n",
    "Revenue per customer: 534.0\n",
    "\n",
    "Existing Customer Orders in 2019\n",
    "Number of orderlines:  90534\n",
    "Number of customers:  2735\n",
    "Total Sales from customers:  8431690.0\n",
    "AOLV: 93.0\n",
    "Revenue per customer: 3083.0"
   ]
  },
  {
   "cell_type": "code",
   "execution_count": 216,
   "metadata": {},
   "outputs": [
    {
     "data": {
      "image/png": "[encoded data removed]",
      "text/plain": [
       "<Figure size 432x288 with 1 Axes>"
      ]
     },
     "metadata": {},
     "output_type": "display_data"
    }
   ],
   "source": [
    "labels = 'New (4291)', 'Existing (2735)'\n",
    "sizes = [4291, 2735]\n",
    "explode = (0, 0)  # only \"explode\" the 2nd slice (i.e. 'Hogs')\n",
    "\n",
    "fig1, ax1 = plt.subplots()\n",
    "ax1.pie(sizes, labels=labels, autopct='%1.1f%%')\n",
    "ax1.axis('equal')  # Equal aspect ratio ensures that pie is drawn as a circle.\n",
    "fig1.set_tight_layout(True)\n",
    "plt.title(\"Number of Customers - 2019\")\n",
    "plt.savefig(r'C:\\Users\\Shaheen.Ahmed\\Documents\\Webshop analysis\\new_existing_customers.png', dpi=900)\n",
    "\n",
    "plt.show()"
   ]
  },
  {
   "cell_type": "code",
   "execution_count": null,
   "metadata": {},
   "outputs": [],
   "source": []
  }
 ],
 "metadata": {
  "kernelspec": {
   "display_name": "Python 3",
   "language": "python",
   "name": "python3"
  },
  "language_info": {
   "codemirror_mode": {
    "name": "ipython",
    "version": 3
   },
   "file_extension": ".py",
   "mimetype": "text/x-python",
   "name": "python",
   "nbconvert_exporter": "python",
   "pygments_lexer": "ipython3",
   "version": "3.7.4"
  }
 },
 "nbformat": 4,
 "nbformat_minor": 2
}
