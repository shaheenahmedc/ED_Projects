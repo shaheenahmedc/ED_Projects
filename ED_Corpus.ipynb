{
 "cells": [
  {
   "cell_type": "markdown",
   "metadata": {
    "toc": true
   },
   "source": [
    "<h1>Table of Contents<span class=\"tocSkip\"></span></h1>\n",
    "<div class=\"toc\"><ul class=\"toc-item\"><li><span><a href=\"#Import-modules\" data-toc-modified-id=\"Import-modules-1\"><span class=\"toc-item-num\">1&nbsp;&nbsp;</span>Import modules</a></span></li><li><span><a href=\"#Read-in-data,-clean-HTML-and-non-alpha-numerics\" data-toc-modified-id=\"Read-in-data,-clean-HTML-and-non-alpha-numerics-2\"><span class=\"toc-item-num\">2&nbsp;&nbsp;</span>Read in data, clean HTML and non-alpha numerics</a></span></li><li><span><a href=\"#Get-list-of-filenames\" data-toc-modified-id=\"Get-list-of-filenames-3\"><span class=\"toc-item-num\">3&nbsp;&nbsp;</span>Get list of filenames</a></span></li><li><span><a href=\"#Check-%-empty-rows,-duplicates-etc\" data-toc-modified-id=\"Check-%-empty-rows,-duplicates-etc-4\"><span class=\"toc-item-num\">4&nbsp;&nbsp;</span>Check % empty rows, duplicates etc</a></span></li><li><span><a href=\"#Remove-nan-rows-for-certain-language\" data-toc-modified-id=\"Remove-nan-rows-for-certain-language-5\"><span class=\"toc-item-num\">5&nbsp;&nbsp;</span>Remove nan rows for certain language</a></span></li><li><span><a href=\"#Split-each-row-into-individual-words,-and-put-into-datafrane\" data-toc-modified-id=\"Split-each-row-into-individual-words,-and-put-into-datafrane-6\"><span class=\"toc-item-num\">6&nbsp;&nbsp;</span>Split each row into individual words, and put into datafrane</a></span></li><li><span><a href=\"#Create-word-counts-dataframe,-rename-columns,-remove-alphabet\" data-toc-modified-id=\"Create-word-counts-dataframe,-rename-columns,-remove-alphabet-7\"><span class=\"toc-item-num\">7&nbsp;&nbsp;</span>Create word counts dataframe, rename columns, remove alphabet</a></span></li><li><span><a href=\"#Check-if-each-word-in-stopwords-list,-and-add-boolean-to-dataframe\" data-toc-modified-id=\"Check-if-each-word-in-stopwords-list,-and-add-boolean-to-dataframe-8\"><span class=\"toc-item-num\">8&nbsp;&nbsp;</span>Check if each word in stopwords list, and add boolean to dataframe</a></span></li><li><span><a href=\"#Calculate-T-IDF\" data-toc-modified-id=\"Calculate-T-IDF-9\"><span class=\"toc-item-num\">9&nbsp;&nbsp;</span>Calculate T-IDF</a></span></li><li><span><a href=\"#Plot-True-vs-False\" data-toc-modified-id=\"Plot-True-vs-False-10\"><span class=\"toc-item-num\">10&nbsp;&nbsp;</span>Plot True vs False</a></span></li><li><span><a href=\"#Attach-row-count-for-each-word\" data-toc-modified-id=\"Attach-row-count-for-each-word-11\"><span class=\"toc-item-num\">11&nbsp;&nbsp;</span>Attach row count for each word</a></span></li><li><span><a href=\"#Reload-in-results,-if-saved-previously\" data-toc-modified-id=\"Reload-in-results,-if-saved-previously-12\"><span class=\"toc-item-num\">12&nbsp;&nbsp;</span>Reload in results, if saved previously</a></span></li></ul></div>"
   ]
  },
  {
   "cell_type": "markdown",
   "metadata": {},
   "source": [
    "# Import modules"
   ]
  },
  {
   "cell_type": "code",
   "execution_count": 1,
   "metadata": {},
   "outputs": [
    {
     "name": "stderr",
     "output_type": "stream",
     "text": [
      "[nltk_data] Downloading package words to\n",
      "[nltk_data]     C:\\Users\\Shaheen.Ahmed\\AppData\\Roaming\\nltk_data...\n",
      "[nltk_data]   Package words is already up-to-date!\n",
      "[nltk_data] Downloading package stopwords to\n",
      "[nltk_data]     C:\\Users\\Shaheen.Ahmed\\AppData\\Roaming\\nltk_data...\n",
      "[nltk_data]   Package stopwords is already up-to-date!\n",
      "[nltk_data] Downloading package brown to\n",
      "[nltk_data]     C:\\Users\\Shaheen.Ahmed\\AppData\\Roaming\\nltk_data...\n",
      "[nltk_data]   Package brown is already up-to-date!\n",
      "[nltk_data] Downloading package wordnet to\n",
      "[nltk_data]     C:\\Users\\Shaheen.Ahmed\\AppData\\Roaming\\nltk_data...\n",
      "[nltk_data]   Package wordnet is already up-to-date!\n"
     ]
    }
   ],
   "source": [
    "import pandas as pd\n",
    "import nltk \n",
    "import numpy as np\n",
    "nltk.download(\"words\")\n",
    "nltk.download(\"stopwords\")\n",
    "nltk.download(\"brown\")\n",
    "nltk.download(\"wordnet\")\n",
    "from nltk.corpus import words\n",
    "from nltk.corpus import stopwords\n",
    "from nltk.corpus import brown\n",
    "from nltk.corpus import wordnet\n",
    "from nltk.stem.wordnet import WordNetLemmatizer\n",
    "import re\n",
    "from pathlib import Path\n",
    "import matplotlib.pyplot as plt\n",
    "from sklearn.feature_extraction.text import TfidfTransformer\n",
    "from sklearn.feature_extraction.text import CountVectorizer\n",
    "import os\n",
    "from pylab import rcParams"
   ]
  },
  {
   "cell_type": "markdown",
   "metadata": {},
   "source": [
    "# Read in data, clean HTML and non-alpha numerics"
   ]
  },
  {
   "cell_type": "code",
   "execution_count": 2,
   "metadata": {},
   "outputs": [],
   "source": [
    "def read_file(filename):\n",
    "    df = pd.read_csv(filename, index_col = 0, encoding = 'utf-8')\n",
    "    df = df.applymap(str)\n",
    "    df = df.apply(lambda col: col.str.lower())\n",
    "    df = df.replace('<[^<]+?>', ' ',regex=True).astype(str) #Remove all strings, bounded by < and > \n",
    "    df = df.replace(r\"[^a-zA-Z]+\", \" \",regex=True).astype(str) #Remove all non alpha-numerics\n",
    "    return df"
   ]
  },
  {
   "cell_type": "markdown",
   "metadata": {},
   "source": [
    "# Get list of filenames"
   ]
  },
  {
   "cell_type": "code",
   "execution_count": 3,
   "metadata": {},
   "outputs": [],
   "source": [
    "def get_all_descriptions_from_folder(root_dir):\n",
    "    \n",
    "    arr = os.listdir(root_dir)\n",
    "    print (arr)\n",
    "    df_all_descriptions = pd.DataFrame()\n",
    "\n",
    "    for i in arr:\n",
    "        filename = os.path.join(root_dir, i)\n",
    "        df_file = read_file(filename)\n",
    "        df_file = df_file.rename(columns={\"Long description (English)\": \"English\", \n",
    "                                \"Long description (Dutch)\": \"Dutch\", \n",
    "                                \"Long description (French)\": \"French\",\n",
    "                                \"Long description (German)\": \"German\"})\n",
    "\n",
    "        df_all_descriptions = pd.concat([df_all_descriptions, df_file], ignore_index = True)\n",
    "    return df_all_descriptions"
   ]
  },
  {
   "cell_type": "markdown",
   "metadata": {},
   "source": [
    "# Check % empty rows, duplicates etc"
   ]
  },
  {
   "cell_type": "code",
   "execution_count": 4,
   "metadata": {},
   "outputs": [],
   "source": [
    "def check_percentage_empty_rows(df, row_name, nan_identifier):\n",
    "    perc_empty = ( len(df[df[row_name] == nan_identifier]) / len(df) )\n",
    "    print (\"%s, Percentage empty rows = %s \" % (row_name, perc_empty))"
   ]
  },
  {
   "cell_type": "markdown",
   "metadata": {},
   "source": [
    "# Remove nan rows for certain language"
   ]
  },
  {
   "cell_type": "code",
   "execution_count": 5,
   "metadata": {},
   "outputs": [],
   "source": [
    "def remove_nans_for_language(df, language, nan_identifier):\n",
    "    df_trimmed = df[~df[language].str.contains(nan_identifier)]\n",
    "    print (\"Previous length of df: %s \" % len(df))\n",
    "    print (\"New length of df: %s \" % len(df_trimmed))\n",
    "    return df_trimmed"
   ]
  },
  {
   "cell_type": "markdown",
   "metadata": {},
   "source": [
    "# Split each row into individual words, and put into datafrane"
   ]
  },
  {
   "cell_type": "code",
   "execution_count": 6,
   "metadata": {},
   "outputs": [],
   "source": [
    "def Get_list_top_n_words(df, language, n_words):\n",
    "    list_top_n_words = df[language].str.split(expand=True).stack().value_counts().head(n_words).index.to_list()\n",
    "    print (list_top_n_words)\n",
    "    return list_top_n_words\n",
    "\n",
    "def Plot_top_n_words(df, language, n_words):\n",
    "    df[language].str.split(expand=True).stack().value_counts().head(n_words).plot('bar')"
   ]
  },
  {
   "cell_type": "markdown",
   "metadata": {},
   "source": [
    "# Create word counts dataframe, rename columns, remove alphabet"
   ]
  },
  {
   "cell_type": "code",
   "execution_count": 7,
   "metadata": {},
   "outputs": [],
   "source": [
    "def create_df_word_counts(language, df_descriptions):\n",
    "    df_word_counts = df_descriptions[language].str.split(expand=True).stack().value_counts().reset_index(name='count')\n",
    "    df_word_counts.columns = ['word', 'count']\n",
    "    df_word_counts = df_word_counts[df_word_counts['word'].str.len() > 1]\n",
    "\n",
    "    return df_word_counts"
   ]
  },
  {
   "cell_type": "markdown",
   "metadata": {},
   "source": [
    "# Check if each word in stopwords list, and add boolean to dataframe"
   ]
  },
  {
   "cell_type": "code",
   "execution_count": 8,
   "metadata": {},
   "outputs": [],
   "source": [
    "def add_in_nltk_bool(df_word_counts, language):\n",
    "    \n",
    "    stopword_list = stopwords.words(language)\n",
    "    stopword_set = set(stopword_list)\n",
    "\n",
    "    for i, row in df_word_counts.iterrows():\n",
    "        word = row['word']\n",
    "        if word in stopword_set:\n",
    "            df_word_counts.loc[i, 'in_nltk_stopwords_bool'] = True\n",
    "        else:\n",
    "            df_word_counts.loc[i, 'in_nltk_stopwords_bool'] = False\n",
    "    \n",
    "    return df_word_counts"
   ]
  },
  {
   "cell_type": "code",
   "execution_count": 9,
   "metadata": {},
   "outputs": [],
   "source": [
    "def apply_colour(df_word_counts):\n",
    "\n",
    "    def color(val):\n",
    "        if val == True:\n",
    "            color = 'green'\n",
    "        else:\n",
    "            color = 'red'\n",
    "        return 'background-color: %s' % color\n",
    "    \n",
    "    df_word_counts = df_word_counts.style.applymap(color, subset=['in_nltk_stopwords_bool'])\n",
    "    return df_word_counts"
   ]
  },
  {
   "cell_type": "markdown",
   "metadata": {},
   "source": [
    "# Calculate T-IDF"
   ]
  },
  {
   "cell_type": "code",
   "execution_count": 10,
   "metadata": {},
   "outputs": [],
   "source": [
    "def add_idf_scores(df_word_counts, df_descriptions, language):\n",
    "    \n",
    "    #instantiate CountVectorizer()\n",
    "    cv=CountVectorizer()\n",
    "\n",
    "    # this steps generates word counts for the words in each description\n",
    "    word_count_vector=cv.fit_transform(df_descriptions[language].to_list())\n",
    "    \n",
    "    tfidf_transformer=TfidfTransformer(smooth_idf=True,use_idf=True)\n",
    "    tfidf_transformer.fit(word_count_vector)\n",
    "    \n",
    "    # print idf values\n",
    "    df_idf = pd.DataFrame()\n",
    "    df_idf['word'], df_idf['idf_score'] = [cv.get_feature_names(), tfidf_transformer.idf_]\n",
    "\n",
    "    #Left join idf df and df_word_counts\n",
    "    df_word_counts = pd.merge(df_word_counts, df_idf, on='word', how = 'left')\n",
    "\n",
    "    return df_word_counts"
   ]
  },
  {
   "cell_type": "markdown",
   "metadata": {},
   "source": [
    "# Plot True vs False "
   ]
  },
  {
   "cell_type": "code",
   "execution_count": 11,
   "metadata": {},
   "outputs": [],
   "source": [
    "def output_plots(df_word_counts):\n",
    "    \n",
    "    rcParams['figure.figsize'] = 10,10\n",
    "    plt.figure()\n",
    "    plt.scatter(\n",
    "    df_word_counts.loc[df_word_counts['in_nltk_stopwords_bool'] == True]['count'], \n",
    "    df_word_counts.loc[df_word_counts['in_nltk_stopwords_bool'] == True]['idf_score'], \n",
    "    c='green', alpha=.5) \n",
    "    \n",
    "    plt.figure()\n",
    "    plt.scatter(\n",
    "    df_word_counts.loc[df_word_counts['in_nltk_stopwords_bool'] == False]['count'], \n",
    "    df_word_counts.loc[df_word_counts['in_nltk_stopwords_bool'] == False]['idf_score'], \n",
    "    c='red', alpha=.5)\n",
    "    \n",
    "    return df_word_counts"
   ]
  },
  {
   "cell_type": "markdown",
   "metadata": {},
   "source": [
    "# Attach row count for each word"
   ]
  },
  {
   "cell_type": "code",
   "execution_count": 12,
   "metadata": {
    "scrolled": true
   },
   "outputs": [
    {
     "data": {
      "text/plain": [
       "'\\ndf_all_descriptions_nan_removed_copy[\\'English\\'] = df_all_descriptions_nan_removed_copy[\\'English\\'].str.split()\\ndf_word_counts_idf_merged[\"row_count\"] = np.nan \\n\\nfor i, row_words_df in df_word_counts_idf_merged.iterrows():\\n    if i % 5 == 0:  \\n        print (i)\\n    count = 0\\n    for j, row_descriptions_df in df_all_descriptions_nan_removed_copy.iterrows():\\n        if row_words_df[\\'word\\'] in row_descriptions_df[\\'English\\']:\\n            count += 1\\n    df_word_counts_idf_merged.at[i, \"row_count\"] = count        \\n'"
      ]
     },
     "execution_count": 12,
     "metadata": {},
     "output_type": "execute_result"
    }
   ],
   "source": [
    "# Initial method, much slower\n",
    "'''\n",
    "df_all_descriptions_nan_removed_copy['English'] = df_all_descriptions_nan_removed_copy['English'].str.split()\n",
    "df_word_counts_idf_merged[\"row_count\"] = np.nan \n",
    "\n",
    "for i, row_words_df in df_word_counts_idf_merged.iterrows():\n",
    "    if i % 5 == 0:  \n",
    "        print (i)\n",
    "    count = 0\n",
    "    for j, row_descriptions_df in df_all_descriptions_nan_removed_copy.iterrows():\n",
    "        if row_words_df['word'] in row_descriptions_df['English']:\n",
    "            count += 1\n",
    "    df_word_counts_idf_merged.at[i, \"row_count\"] = count        \n",
    "'''"
   ]
  },
  {
   "cell_type": "code",
   "execution_count": 13,
   "metadata": {},
   "outputs": [],
   "source": [
    "#Second method, faster\n",
    "\n",
    "def calc_row_count_each_word(df_word_counts, df_descriptions, language):\n",
    "    \n",
    "    df_word_counts[\"row_count\"] = np.nan \n",
    "\n",
    "    for i, row_words_df in df_word_counts.iterrows():\n",
    "        if i % 500 == 0:  \n",
    "            print (\"row processed in calc_row_count_each_word: %s\" % (i))\n",
    "        word = row_words_df['word']\n",
    "        df_1 = df_descriptions[df_descriptions[language].str.contains(\" \" + word + \" \")]\n",
    "        df_2 = df_descriptions[df_descriptions[language].str.contains(\" \" + word)]\n",
    "        df_3 = df_descriptions[df_descriptions[language].str.contains(word + \" \")]\n",
    "        df_matches = pd.concat([df_1, df_2, df_3]).drop_duplicates().reset_index(drop=True)\n",
    "        df_word_counts.at[i, \"row_count\"] = len(df_matches)\n",
    "        \n",
    "    df_word_counts['counts_row_count'] = df_word_counts['count'] / df_word_counts['row_count']\n",
    "    return df_word_counts"
   ]
  },
  {
   "cell_type": "code",
   "execution_count": 14,
   "metadata": {},
   "outputs": [],
   "source": [
    "def plot_idf_count_comparisons(df_word_counts, color):    \n",
    "    df_word_counts['idf'] = df_word_counts['idf_score'] / df_word_counts['count']\n",
    "    df_true = df_word_counts[df_word_counts['in_nltk_stopwords_bool'] == True]\n",
    "    df_false = df_word_counts[df_word_counts['in_nltk_stopwords_bool'] == False]\n",
    "    df_false['idf_score'] = pd.to_numeric(df_false['idf_score'])\n",
    "    plt.figure()\n",
    "    df_true.plot.scatter(x = 'idf_score', y = 'counts_row_count', color = color)\n",
    "    plt.figure()\n",
    "    df_false.plot.scatter(x = 'idf_score', y = 'counts_row_count', s = 0.5, color = color)\n",
    "    plt.figure()\n",
    "    df_true.plot.scatter(x = 'idf_score', y = 'row_count', color = color)\n",
    "    plt.figure()\n",
    "    df_false.plot.scatter(x = 'idf_score', y = 'row_count', color = color)\n",
    "    plt.figure()\n",
    "    df_true.plot.scatter(x = 'idf_score', y = 'count', color = color)\n",
    "    plt.figure()\n",
    "    df_false.plot.scatter(x = 'idf_score', y = 'count', color = color)\n",
    "    df_false.describe()\n",
    "    \n",
    "    return (df_true, df_false)"
   ]
  },
  {
   "cell_type": "code",
   "execution_count": 15,
   "metadata": {},
   "outputs": [],
   "source": [
    "def output_stopword_lists(df, idf_threshold):\n",
    "    list_stopwords = df[df['idf_score'] <= idf_threshold].word.unique()\n",
    "    print (list_stopwords)\n",
    "    print (\"number of stopwords = %s\" % (len(list_stopwords)))\n",
    "    return list_stopwords"
   ]
  },
  {
   "cell_type": "code",
   "execution_count": 16,
   "metadata": {},
   "outputs": [],
   "source": [
    "def save_df(df, filename):\n",
    "    \n",
    "    df.to_csv(filename, sep=',')"
   ]
  },
  {
   "cell_type": "code",
   "execution_count": 17,
   "metadata": {},
   "outputs": [
    {
     "name": "stdout",
     "output_type": "stream",
     "text": [
      "['Bearings.csv', 'Compensators.csv', 'Electical_components.csv', 'Fastners.csv', 'Filteration.csv', 'Gearboxes_motors_drives.csv', 'Hoses_Couplings_indus.csv', 'Hydraulics.csv', 'Insulation_materials.csv', 'Lifting_hoisting.csv', 'Lubricants_equipment.csv', 'Machines.csv', 'Maintenance_products.csv', 'Measurement_control.csv', 'Mech_power_transmission.csv', 'Mounting_systems.csv', 'Piping.csv', 'Piping_plastics.csv', 'Pneumatic_components.csv', 'Precision_control.csv', 'Process_pumps.csv', 'Rubber_products.csv', 'Safety.csv', 'Sealing_equipment.csv', 'Spill_control.csv', 'Synthetic_materials.csv', 'Tools.csv', 'Valves.csv', 'Vibration_dampers.csv', 'Welding_equipment.csv', 'Workplace_equipment.csv']\n"
     ]
    },
    {
     "name": "stderr",
     "output_type": "stream",
     "text": [
      "C:\\ProgramData\\Anaconda3\\lib\\site-packages\\ipykernel_launcher.py:28: DtypeWarning: Columns (2,4,5) have mixed types. Specify dtype option on import or set low_memory=False.\n",
      "C:\\ProgramData\\Anaconda3\\lib\\site-packages\\ipykernel_launcher.py:28: DtypeWarning: Columns (3,4,5) have mixed types. Specify dtype option on import or set low_memory=False.\n",
      "C:\\ProgramData\\Anaconda3\\lib\\site-packages\\ipykernel_launcher.py:28: DtypeWarning: Columns (2,3,4) have mixed types. Specify dtype option on import or set low_memory=False.\n"
     ]
    },
    {
     "name": "stdout",
     "output_type": "stream",
     "text": [
      "English, Percentage empty rows = 0.8377330316827177 \n",
      "Previous length of df: 1595223 \n",
      "New length of df: 249223 \n",
      "row processed in calc_row_count_each_word: 0\n",
      "row processed in calc_row_count_each_word: 500\n",
      "row processed in calc_row_count_each_word: 1000\n",
      "row processed in calc_row_count_each_word: 1500\n",
      "row processed in calc_row_count_each_word: 2000\n",
      "row processed in calc_row_count_each_word: 2500\n",
      "row processed in calc_row_count_each_word: 3000\n",
      "row processed in calc_row_count_each_word: 3500\n",
      "row processed in calc_row_count_each_word: 4000\n",
      "row processed in calc_row_count_each_word: 4500\n",
      "row processed in calc_row_count_each_word: 5000\n",
      "row processed in calc_row_count_each_word: 5500\n",
      "row processed in calc_row_count_each_word: 6000\n",
      "row processed in calc_row_count_each_word: 6500\n",
      "row processed in calc_row_count_each_word: 7000\n",
      "row processed in calc_row_count_each_word: 7500\n",
      "row processed in calc_row_count_each_word: 8000\n",
      "row processed in calc_row_count_each_word: 8500\n",
      "row processed in calc_row_count_each_word: 9000\n",
      "row processed in calc_row_count_each_word: 9500\n",
      "row processed in calc_row_count_each_word: 10000\n",
      "row processed in calc_row_count_each_word: 10500\n",
      "row processed in calc_row_count_each_word: 11000\n",
      "row processed in calc_row_count_each_word: 11500\n",
      "row processed in calc_row_count_each_word: 12000\n",
      "row processed in calc_row_count_each_word: 12500\n"
     ]
    },
    {
     "ename": "KeyboardInterrupt",
     "evalue": "",
     "output_type": "error",
     "traceback": [
      "\u001b[1;31m---------------------------------------------------------------------------\u001b[0m",
      "\u001b[1;31mKeyboardInterrupt\u001b[0m                         Traceback (most recent call last)",
      "\u001b[1;32m<ipython-input-17-490445ed47af>\u001b[0m in \u001b[0;36m<module>\u001b[1;34m\u001b[0m\n\u001b[0;32m     26\u001b[0m             \u001b[1;34mr'C:\\Users\\Shaheen.Ahmed\\Documents\\SOE_corpus_work\\df_word_counts_english.csv'\u001b[0m\u001b[1;33m,\u001b[0m\u001b[1;33m\u001b[0m\u001b[1;33m\u001b[0m\u001b[0m\n\u001b[0;32m     27\u001b[0m             \u001b[1;34m'English'\u001b[0m\u001b[1;33m,\u001b[0m\u001b[1;33m\u001b[0m\u001b[1;33m\u001b[0m\u001b[0m\n\u001b[1;32m---> 28\u001b[1;33m             'Black') \n\u001b[0m\u001b[0;32m     29\u001b[0m \u001b[1;33m\u001b[0m\u001b[0m\n\u001b[0;32m     30\u001b[0m \u001b[1;33m\u001b[0m\u001b[0m\n",
      "\u001b[1;32m<ipython-input-17-490445ed47af>\u001b[0m in \u001b[0;36mrun_analysis\u001b[1;34m(root_dir, output_file_name, language, color)\u001b[0m\n\u001b[0;32m     17\u001b[0m     \u001b[0moutput_plots\u001b[0m\u001b[1;33m(\u001b[0m\u001b[0mdf_word_counts\u001b[0m\u001b[1;33m)\u001b[0m\u001b[1;33m\u001b[0m\u001b[1;33m\u001b[0m\u001b[0m\n\u001b[0;32m     18\u001b[0m \u001b[1;33m\u001b[0m\u001b[0m\n\u001b[1;32m---> 19\u001b[1;33m     \u001b[0mdf_word_counts\u001b[0m \u001b[1;33m=\u001b[0m \u001b[0mcalc_row_count_each_word\u001b[0m\u001b[1;33m(\u001b[0m\u001b[0mdf_word_counts\u001b[0m\u001b[1;33m,\u001b[0m \u001b[0mdf_all_descriptions_nan_removed\u001b[0m\u001b[1;33m,\u001b[0m \u001b[0mlanguage\u001b[0m\u001b[1;33m)\u001b[0m\u001b[1;33m\u001b[0m\u001b[1;33m\u001b[0m\u001b[0m\n\u001b[0m\u001b[0;32m     20\u001b[0m \u001b[1;33m\u001b[0m\u001b[0m\n\u001b[0;32m     21\u001b[0m     \u001b[0mdf_true\u001b[0m\u001b[1;33m,\u001b[0m \u001b[0mdf_false\u001b[0m \u001b[1;33m=\u001b[0m \u001b[0mplot_idf_count_comparisons\u001b[0m\u001b[1;33m(\u001b[0m\u001b[0mdf_word_counts_english\u001b[0m\u001b[1;33m,\u001b[0m \u001b[1;34m'red'\u001b[0m\u001b[1;33m)\u001b[0m\u001b[1;33m\u001b[0m\u001b[1;33m\u001b[0m\u001b[0m\n",
      "\u001b[1;32m<ipython-input-13-63805cfbd3b3>\u001b[0m in \u001b[0;36mcalc_row_count_each_word\u001b[1;34m(df_word_counts, df_descriptions, language)\u001b[0m\n\u001b[0;32m     10\u001b[0m         \u001b[0mword\u001b[0m \u001b[1;33m=\u001b[0m \u001b[0mrow_words_df\u001b[0m\u001b[1;33m[\u001b[0m\u001b[1;34m'word'\u001b[0m\u001b[1;33m]\u001b[0m\u001b[1;33m\u001b[0m\u001b[1;33m\u001b[0m\u001b[0m\n\u001b[0;32m     11\u001b[0m         \u001b[0mdf_1\u001b[0m \u001b[1;33m=\u001b[0m \u001b[0mdf_descriptions\u001b[0m\u001b[1;33m[\u001b[0m\u001b[0mdf_descriptions\u001b[0m\u001b[1;33m[\u001b[0m\u001b[0mlanguage\u001b[0m\u001b[1;33m]\u001b[0m\u001b[1;33m.\u001b[0m\u001b[0mstr\u001b[0m\u001b[1;33m.\u001b[0m\u001b[0mcontains\u001b[0m\u001b[1;33m(\u001b[0m\u001b[1;34m\" \"\u001b[0m \u001b[1;33m+\u001b[0m \u001b[0mword\u001b[0m \u001b[1;33m+\u001b[0m \u001b[1;34m\" \"\u001b[0m\u001b[1;33m)\u001b[0m\u001b[1;33m]\u001b[0m\u001b[1;33m\u001b[0m\u001b[1;33m\u001b[0m\u001b[0m\n\u001b[1;32m---> 12\u001b[1;33m         \u001b[0mdf_2\u001b[0m \u001b[1;33m=\u001b[0m \u001b[0mdf_descriptions\u001b[0m\u001b[1;33m[\u001b[0m\u001b[0mdf_descriptions\u001b[0m\u001b[1;33m[\u001b[0m\u001b[0mlanguage\u001b[0m\u001b[1;33m]\u001b[0m\u001b[1;33m.\u001b[0m\u001b[0mstr\u001b[0m\u001b[1;33m.\u001b[0m\u001b[0mcontains\u001b[0m\u001b[1;33m(\u001b[0m\u001b[1;34m\" \"\u001b[0m \u001b[1;33m+\u001b[0m \u001b[0mword\u001b[0m\u001b[1;33m)\u001b[0m\u001b[1;33m]\u001b[0m\u001b[1;33m\u001b[0m\u001b[1;33m\u001b[0m\u001b[0m\n\u001b[0m\u001b[0;32m     13\u001b[0m         \u001b[0mdf_3\u001b[0m \u001b[1;33m=\u001b[0m \u001b[0mdf_descriptions\u001b[0m\u001b[1;33m[\u001b[0m\u001b[0mdf_descriptions\u001b[0m\u001b[1;33m[\u001b[0m\u001b[0mlanguage\u001b[0m\u001b[1;33m]\u001b[0m\u001b[1;33m.\u001b[0m\u001b[0mstr\u001b[0m\u001b[1;33m.\u001b[0m\u001b[0mcontains\u001b[0m\u001b[1;33m(\u001b[0m\u001b[0mword\u001b[0m \u001b[1;33m+\u001b[0m \u001b[1;34m\" \"\u001b[0m\u001b[1;33m)\u001b[0m\u001b[1;33m]\u001b[0m\u001b[1;33m\u001b[0m\u001b[1;33m\u001b[0m\u001b[0m\n\u001b[0;32m     14\u001b[0m         \u001b[0mdf_matches\u001b[0m \u001b[1;33m=\u001b[0m \u001b[0mpd\u001b[0m\u001b[1;33m.\u001b[0m\u001b[0mconcat\u001b[0m\u001b[1;33m(\u001b[0m\u001b[1;33m[\u001b[0m\u001b[0mdf_1\u001b[0m\u001b[1;33m,\u001b[0m \u001b[0mdf_2\u001b[0m\u001b[1;33m,\u001b[0m \u001b[0mdf_3\u001b[0m\u001b[1;33m]\u001b[0m\u001b[1;33m)\u001b[0m\u001b[1;33m.\u001b[0m\u001b[0mdrop_duplicates\u001b[0m\u001b[1;33m(\u001b[0m\u001b[1;33m)\u001b[0m\u001b[1;33m.\u001b[0m\u001b[0mreset_index\u001b[0m\u001b[1;33m(\u001b[0m\u001b[0mdrop\u001b[0m\u001b[1;33m=\u001b[0m\u001b[1;32mTrue\u001b[0m\u001b[1;33m)\u001b[0m\u001b[1;33m\u001b[0m\u001b[1;33m\u001b[0m\u001b[0m\n",
      "\u001b[1;32mC:\\ProgramData\\Anaconda3\\lib\\site-packages\\pandas\\core\\strings.py\u001b[0m in \u001b[0;36mcontains\u001b[1;34m(self, pat, case, flags, na, regex)\u001b[0m\n\u001b[0;32m   2521\u001b[0m     \u001b[1;32mdef\u001b[0m \u001b[0mcontains\u001b[0m\u001b[1;33m(\u001b[0m\u001b[0mself\u001b[0m\u001b[1;33m,\u001b[0m \u001b[0mpat\u001b[0m\u001b[1;33m,\u001b[0m \u001b[0mcase\u001b[0m\u001b[1;33m=\u001b[0m\u001b[1;32mTrue\u001b[0m\u001b[1;33m,\u001b[0m \u001b[0mflags\u001b[0m\u001b[1;33m=\u001b[0m\u001b[1;36m0\u001b[0m\u001b[1;33m,\u001b[0m \u001b[0mna\u001b[0m\u001b[1;33m=\u001b[0m\u001b[0mnp\u001b[0m\u001b[1;33m.\u001b[0m\u001b[0mnan\u001b[0m\u001b[1;33m,\u001b[0m \u001b[0mregex\u001b[0m\u001b[1;33m=\u001b[0m\u001b[1;32mTrue\u001b[0m\u001b[1;33m)\u001b[0m\u001b[1;33m:\u001b[0m\u001b[1;33m\u001b[0m\u001b[1;33m\u001b[0m\u001b[0m\n\u001b[0;32m   2522\u001b[0m         result = str_contains(self._parent, pat, case=case, flags=flags, na=na,\n\u001b[1;32m-> 2523\u001b[1;33m                               regex=regex)\n\u001b[0m\u001b[0;32m   2524\u001b[0m         \u001b[1;32mreturn\u001b[0m \u001b[0mself\u001b[0m\u001b[1;33m.\u001b[0m\u001b[0m_wrap_result\u001b[0m\u001b[1;33m(\u001b[0m\u001b[0mresult\u001b[0m\u001b[1;33m,\u001b[0m \u001b[0mfill_value\u001b[0m\u001b[1;33m=\u001b[0m\u001b[0mna\u001b[0m\u001b[1;33m)\u001b[0m\u001b[1;33m\u001b[0m\u001b[1;33m\u001b[0m\u001b[0m\n\u001b[0;32m   2525\u001b[0m \u001b[1;33m\u001b[0m\u001b[0m\n",
      "\u001b[1;32mC:\\ProgramData\\Anaconda3\\lib\\site-packages\\pandas\\core\\strings.py\u001b[0m in \u001b[0;36mstr_contains\u001b[1;34m(arr, pat, case, flags, na, regex)\u001b[0m\n\u001b[0;32m    313\u001b[0m             \u001b[0muppered\u001b[0m \u001b[1;33m=\u001b[0m \u001b[0m_na_map\u001b[0m\u001b[1;33m(\u001b[0m\u001b[1;32mlambda\u001b[0m \u001b[0mx\u001b[0m\u001b[1;33m:\u001b[0m \u001b[0mx\u001b[0m\u001b[1;33m.\u001b[0m\u001b[0mupper\u001b[0m\u001b[1;33m(\u001b[0m\u001b[1;33m)\u001b[0m\u001b[1;33m,\u001b[0m \u001b[0marr\u001b[0m\u001b[1;33m)\u001b[0m\u001b[1;33m\u001b[0m\u001b[1;33m\u001b[0m\u001b[0m\n\u001b[0;32m    314\u001b[0m             \u001b[1;32mreturn\u001b[0m \u001b[0m_na_map\u001b[0m\u001b[1;33m(\u001b[0m\u001b[0mf\u001b[0m\u001b[1;33m,\u001b[0m \u001b[0muppered\u001b[0m\u001b[1;33m,\u001b[0m \u001b[0mna\u001b[0m\u001b[1;33m,\u001b[0m \u001b[0mdtype\u001b[0m\u001b[1;33m=\u001b[0m\u001b[0mbool\u001b[0m\u001b[1;33m)\u001b[0m\u001b[1;33m\u001b[0m\u001b[1;33m\u001b[0m\u001b[0m\n\u001b[1;32m--> 315\u001b[1;33m     \u001b[1;32mreturn\u001b[0m \u001b[0m_na_map\u001b[0m\u001b[1;33m(\u001b[0m\u001b[0mf\u001b[0m\u001b[1;33m,\u001b[0m \u001b[0marr\u001b[0m\u001b[1;33m,\u001b[0m \u001b[0mna\u001b[0m\u001b[1;33m,\u001b[0m \u001b[0mdtype\u001b[0m\u001b[1;33m=\u001b[0m\u001b[0mbool\u001b[0m\u001b[1;33m)\u001b[0m\u001b[1;33m\u001b[0m\u001b[1;33m\u001b[0m\u001b[0m\n\u001b[0m\u001b[0;32m    316\u001b[0m \u001b[1;33m\u001b[0m\u001b[0m\n\u001b[0;32m    317\u001b[0m \u001b[1;33m\u001b[0m\u001b[0m\n",
      "\u001b[1;32mC:\\ProgramData\\Anaconda3\\lib\\site-packages\\pandas\\core\\strings.py\u001b[0m in \u001b[0;36m_na_map\u001b[1;34m(f, arr, na_result, dtype)\u001b[0m\n\u001b[0;32m     57\u001b[0m \u001b[1;32mdef\u001b[0m \u001b[0m_na_map\u001b[0m\u001b[1;33m(\u001b[0m\u001b[0mf\u001b[0m\u001b[1;33m,\u001b[0m \u001b[0marr\u001b[0m\u001b[1;33m,\u001b[0m \u001b[0mna_result\u001b[0m\u001b[1;33m=\u001b[0m\u001b[0mnp\u001b[0m\u001b[1;33m.\u001b[0m\u001b[0mnan\u001b[0m\u001b[1;33m,\u001b[0m \u001b[0mdtype\u001b[0m\u001b[1;33m=\u001b[0m\u001b[0mobject\u001b[0m\u001b[1;33m)\u001b[0m\u001b[1;33m:\u001b[0m\u001b[1;33m\u001b[0m\u001b[1;33m\u001b[0m\u001b[0m\n\u001b[0;32m     58\u001b[0m     \u001b[1;31m# should really _check_ for NA\u001b[0m\u001b[1;33m\u001b[0m\u001b[1;33m\u001b[0m\u001b[1;33m\u001b[0m\u001b[0m\n\u001b[1;32m---> 59\u001b[1;33m     \u001b[1;32mreturn\u001b[0m \u001b[0m_map\u001b[0m\u001b[1;33m(\u001b[0m\u001b[0mf\u001b[0m\u001b[1;33m,\u001b[0m \u001b[0marr\u001b[0m\u001b[1;33m,\u001b[0m \u001b[0mna_mask\u001b[0m\u001b[1;33m=\u001b[0m\u001b[1;32mTrue\u001b[0m\u001b[1;33m,\u001b[0m \u001b[0mna_value\u001b[0m\u001b[1;33m=\u001b[0m\u001b[0mna_result\u001b[0m\u001b[1;33m,\u001b[0m \u001b[0mdtype\u001b[0m\u001b[1;33m=\u001b[0m\u001b[0mdtype\u001b[0m\u001b[1;33m)\u001b[0m\u001b[1;33m\u001b[0m\u001b[1;33m\u001b[0m\u001b[0m\n\u001b[0m\u001b[0;32m     60\u001b[0m \u001b[1;33m\u001b[0m\u001b[0m\n\u001b[0;32m     61\u001b[0m \u001b[1;33m\u001b[0m\u001b[0m\n",
      "\u001b[1;32mC:\\ProgramData\\Anaconda3\\lib\\site-packages\\pandas\\core\\strings.py\u001b[0m in \u001b[0;36m_map\u001b[1;34m(f, arr, na_mask, na_value, dtype)\u001b[0m\n\u001b[0;32m     72\u001b[0m         \u001b[1;32mtry\u001b[0m\u001b[1;33m:\u001b[0m\u001b[1;33m\u001b[0m\u001b[1;33m\u001b[0m\u001b[0m\n\u001b[0;32m     73\u001b[0m             \u001b[0mconvert\u001b[0m \u001b[1;33m=\u001b[0m \u001b[1;32mnot\u001b[0m \u001b[0mall\u001b[0m\u001b[1;33m(\u001b[0m\u001b[0mmask\u001b[0m\u001b[1;33m)\u001b[0m\u001b[1;33m\u001b[0m\u001b[1;33m\u001b[0m\u001b[0m\n\u001b[1;32m---> 74\u001b[1;33m             \u001b[0mresult\u001b[0m \u001b[1;33m=\u001b[0m \u001b[0mlib\u001b[0m\u001b[1;33m.\u001b[0m\u001b[0mmap_infer_mask\u001b[0m\u001b[1;33m(\u001b[0m\u001b[0marr\u001b[0m\u001b[1;33m,\u001b[0m \u001b[0mf\u001b[0m\u001b[1;33m,\u001b[0m \u001b[0mmask\u001b[0m\u001b[1;33m.\u001b[0m\u001b[0mview\u001b[0m\u001b[1;33m(\u001b[0m\u001b[0mnp\u001b[0m\u001b[1;33m.\u001b[0m\u001b[0muint8\u001b[0m\u001b[1;33m)\u001b[0m\u001b[1;33m,\u001b[0m \u001b[0mconvert\u001b[0m\u001b[1;33m)\u001b[0m\u001b[1;33m\u001b[0m\u001b[1;33m\u001b[0m\u001b[0m\n\u001b[0m\u001b[0;32m     75\u001b[0m         \u001b[1;32mexcept\u001b[0m \u001b[1;33m(\u001b[0m\u001b[0mTypeError\u001b[0m\u001b[1;33m,\u001b[0m \u001b[0mAttributeError\u001b[0m\u001b[1;33m)\u001b[0m \u001b[1;32mas\u001b[0m \u001b[0me\u001b[0m\u001b[1;33m:\u001b[0m\u001b[1;33m\u001b[0m\u001b[1;33m\u001b[0m\u001b[0m\n\u001b[0;32m     76\u001b[0m             \u001b[1;31m# Reraise the exception if callable `f` got wrong number of args.\u001b[0m\u001b[1;33m\u001b[0m\u001b[1;33m\u001b[0m\u001b[1;33m\u001b[0m\u001b[0m\n",
      "\u001b[1;32mpandas/_libs/lib.pyx\u001b[0m in \u001b[0;36mpandas._libs.lib.map_infer_mask\u001b[1;34m()\u001b[0m\n",
      "\u001b[1;32mC:\\ProgramData\\Anaconda3\\lib\\site-packages\\pandas\\core\\strings.py\u001b[0m in \u001b[0;36m<lambda>\u001b[1;34m(x)\u001b[0m\n\u001b[0;32m    304\u001b[0m                           stacklevel=3)\n\u001b[0;32m    305\u001b[0m \u001b[1;33m\u001b[0m\u001b[0m\n\u001b[1;32m--> 306\u001b[1;33m         \u001b[0mf\u001b[0m \u001b[1;33m=\u001b[0m \u001b[1;32mlambda\u001b[0m \u001b[0mx\u001b[0m\u001b[1;33m:\u001b[0m \u001b[0mbool\u001b[0m\u001b[1;33m(\u001b[0m\u001b[0mregex\u001b[0m\u001b[1;33m.\u001b[0m\u001b[0msearch\u001b[0m\u001b[1;33m(\u001b[0m\u001b[0mx\u001b[0m\u001b[1;33m)\u001b[0m\u001b[1;33m)\u001b[0m\u001b[1;33m\u001b[0m\u001b[1;33m\u001b[0m\u001b[0m\n\u001b[0m\u001b[0;32m    307\u001b[0m     \u001b[1;32melse\u001b[0m\u001b[1;33m:\u001b[0m\u001b[1;33m\u001b[0m\u001b[1;33m\u001b[0m\u001b[0m\n\u001b[0;32m    308\u001b[0m         \u001b[1;32mif\u001b[0m \u001b[0mcase\u001b[0m\u001b[1;33m:\u001b[0m\u001b[1;33m\u001b[0m\u001b[1;33m\u001b[0m\u001b[0m\n",
      "\u001b[1;31mKeyboardInterrupt\u001b[0m: "
     ]
    },
    {
     "data": {
      "image/png": "[encoded data removed]",
      "text/plain": [
       "<Figure size 432x288 with 1 Axes>"
      ]
     },
     "metadata": {
      "needs_background": "light"
     },
     "output_type": "display_data"
    },
    {
     "data": {
      "image/png": "[encoded data removed]",
      "text/plain": [
       "<Figure size 720x720 with 1 Axes>"
      ]
     },
     "metadata": {
      "needs_background": "light"
     },
     "output_type": "display_data"
    },
    {
     "data": {
      "image/png": "[encoded data removed]",
      "text/plain": [
       "<Figure size 720x720 with 1 Axes>"
      ]
     },
     "metadata": {
      "needs_background": "light"
     },
     "output_type": "display_data"
    }
   ],
   "source": [
    "def run_analysis(root_dir, output_file_name, language, color):\n",
    "    \n",
    "    df_all_descriptions = get_all_descriptions_from_folder(root_dir)\n",
    "    \n",
    "    check_percentage_empty_rows(df_all_descriptions, language, 'nan')  \n",
    "    \n",
    "    df_all_descriptions_nan_removed = remove_nans_for_language(df_all_descriptions, language, 'nan')\n",
    "    \n",
    "    Plot_top_n_words(df_all_descriptions_nan_removed, language, 25)    \n",
    "    \n",
    "    df_word_counts = create_df_word_counts(language, df_all_descriptions_nan_removed)\n",
    "    \n",
    "    add_in_nltk_bool(df_word_counts, language)\n",
    "    \n",
    "    df_word_counts = add_idf_scores(df_word_counts, df_all_descriptions_nan_removed, language)\n",
    "    \n",
    "    output_plots(df_word_counts)\n",
    "    \n",
    "    df_word_counts = calc_row_count_each_word(df_word_counts, df_all_descriptions_nan_removed, language)  \n",
    "        \n",
    "    df_true, df_false = plot_idf_count_comparisons(df_word_counts, 'red') \n",
    "        \n",
    "    save_df(df_word_counts, output_file_name)\n",
    "    \n",
    "run_analysis(r'C:\\Users\\Shaheen.Ahmed\\Documents\\SOE_corpus_work\\Descriptions', \n",
    "            r'C:\\Users\\Shaheen.Ahmed\\Documents\\SOE_corpus_work\\df_word_counts_english.csv',\n",
    "            'English',\n",
    "            'Black') "
   ]
  },
  {
   "cell_type": "markdown",
   "metadata": {},
   "source": [
    "# Reload in results, if saved previously\n"
   ]
  },
  {
   "cell_type": "code",
   "execution_count": null,
   "metadata": {},
   "outputs": [],
   "source": [
    "def experiment_with_threshold(input_file, threshold_true, threshold_false):\n",
    "\n",
    "    df = pd.read_csv(input_file, index_col = 0, encoding = 'utf-8')\n",
    "    \n",
    "    df_true = df[df['in_nltk_stopwords_bool'] == True]\n",
    "    df_false = df[df['in_nltk_stopwords_bool'] == False]\n",
    "    \n",
    "    list_stopwords_df_true = df_true[df_true['idf'] <= threshold_true].word.unique()\n",
    "    list_stopwords_df_false = df_false[df_false['idf'] <= threshold_false].word.unique()\n",
    "    \n",
    "    print (\"Number of stopwords in nltk found = %s\" % (len(list_stopwords_df_true)))\n",
    "    print (list_stopwords_df_true)\n",
    "\n",
    "    print (\"Number of stopwords not in nltk found = %s\" % (len(list_stopwords_df_false)))\n",
    "    print (list_stopwords_df_false)\n",
    "    \n",
    "    \n",
    "experiment_with_threshold(r'C:\\Users\\Shaheen.Ahmed\\Documents\\SOE_corpus_work\\df_word_counts_idf_merged.csv', 0.01, 0.0001)\n"
   ]
  }
 ],
 "metadata": {
  "kernelspec": {
   "display_name": "Python 3",
   "language": "python",
   "name": "python3"
  },
  "language_info": {
   "codemirror_mode": {
    "name": "ipython",
    "version": 3
   },
   "file_extension": ".py",
   "mimetype": "text/x-python",
   "name": "python",
   "nbconvert_exporter": "python",
   "pygments_lexer": "ipython3",
   "version": "3.8.3"
  },
  "toc": {
   "base_numbering": 1,
   "nav_menu": {},
   "number_sections": true,
   "sideBar": true,
   "skip_h1_title": false,
   "title_cell": "Table of Contents",
   "title_sidebar": "Contents",
   "toc_cell": true,
   "toc_position": {},
   "toc_section_display": true,
   "toc_window_display": true
  }
 },
 "nbformat": 4,
 "nbformat_minor": 2
}
